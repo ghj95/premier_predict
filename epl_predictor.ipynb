{
 "cells": [
  {
   "cell_type": "markdown",
   "metadata": {},
   "source": [
    "# PremierPredict : *Rendre possible la prédiction des matchs de football*"
   ]
  },
  {
   "cell_type": "markdown",
   "metadata": {},
   "source": [
    "## Mise en contexte"
   ]
  },
  {
   "cell_type": "markdown",
   "metadata": {},
   "source": [
    "Le football est bien plus qu'un simple sport - c'est un phénomène mondial qui suscite passion et débats constants. Au cœur de ces discussions se trouve souvent une question fondamentale que nous considérons comme étant *la* question au centre de notre projet : \n",
    "\n",
    "> #### Est-il possible de **prédire les résultats** des matchs de football futurs selon des données historiques?\n",
    "\n",
    "Notre projet **PremierPredict** explore cette question en *développant un modèle prédictif pour les matchs de la Premier League anglaise*. Au-delà de la simple curiosité sportive, cette démarche s'inscrit dans une application concrète de l'analyse de données et de l'apprentissage automatique.\n",
    "La Premier League, avec son niveau de compétition élevé et ses données abondantes, constitue un terrain d'étude idéal. Pour mener à bien notre projet, notre objectif se décrit en deux autres questions additionnelles :\n",
    "\n",
    "\n",
    "> ##### 1. Quels **facteurs** influencent réellement le résultat d'un match de football?\n",
    "\n",
    "> ##### 2. Selon les facteurs relevés, est-il possible de créer un **modèle capable de prédire les résultats futurs** avec une précision supérieure au hasard?\n",
    "\n",
    "\n",
    "En combinant notre **analyse** avec des **modèles d'apprentissage automatique**, nous avons ainsi tenter de capturer les subtilités du jeu et de transformer des statistiques brutes en prédictions fiables, offrant ainsi un nouvel éclairage sur ce sport universel."
   ]
  },
  {
   "cell_type": "markdown",
   "metadata": {},
   "source": [
    "Nous avons déployé le modèle prédictif que nous avons conçu au terme du projet sous la forme d'une application web, pour permettre de prédire les résultats de différents matchs! \n",
    "\n",
    "#### L'application est disponible au lien suivant. **Essayez-là ! : [PremierPredict](https://foot-forecast.streamlit.app)**"
   ]
  },
  {
   "cell_type": "markdown",
   "metadata": {},
   "source": [
    "# Question 1 : Quels facteurs influencent réellement le résultat d'un match de football?"
   ]
  },
  {
   "cell_type": "markdown",
   "metadata": {},
   "source": [
    "Dans cette section, nous explorons les variables qui exercent une influence significative sur l'issue des rencontres en Premier League. Au-delà des intuitions communes, nous cherchons à quantifier précisément l'impact de différents facteurs sur la probabilité de victoire d'une équipe.\n"
   ]
  },
  {
   "cell_type": "markdown",
   "metadata": {},
   "source": [
    "## Import de librairies et des données"
   ]
  },
  {
   "cell_type": "markdown",
   "metadata": {},
   "source": [
    "La librairie `pandas` sera utilisée pour l'analyse et la manipulation de données"
   ]
  },
  {
   "cell_type": "code",
   "execution_count": 1,
   "metadata": {},
   "outputs": [],
   "source": [
    "import pandas as pd"
   ]
  },
  {
   "cell_type": "markdown",
   "metadata": {},
   "source": [
    "Import du `.csv` des données de match sous la forme d'un en tant que *data frame* "
   ]
  },
  {
   "cell_type": "code",
   "execution_count": 2,
   "metadata": {},
   "outputs": [],
   "source": [
    "matchs = pd.read_csv('epl_2000-2025.csv')"
   ]
  },
  {
   "cell_type": "markdown",
   "metadata": {},
   "source": [
    "## Nettoyer les données"
   ]
  },
  {
   "cell_type": "markdown",
   "metadata": {},
   "source": [
    "### Renommer les noms de variables et valeurs"
   ]
  },
  {
   "cell_type": "markdown",
   "metadata": {},
   "source": [
    "En analysant la taille des données, on remarque $22$ variables différentes et $9318$ observations totales\n",
    "\n",
    "Les significations des noms de variables sont explicités dans le fichier `column_def.txt`, il sera important de les modifier au sein du dataframe pour faciliter la compréhension"
   ]
  },
  {
   "cell_type": "code",
   "execution_count": 3,
   "metadata": {},
   "outputs": [
    {
     "name": "stdout",
     "output_type": "stream",
     "text": [
      "(9318, 22)\n",
      "Index(['Date', 'Season', 'HomeTeam', 'AwayTeam', 'FTHG', 'FTAG', 'FTR', 'HTHG',\n",
      "       'HTAG', 'HTR', 'HS', 'AS', 'HST', 'AST', 'HF', 'AF', 'HC', 'AC', 'HY',\n",
      "       'AY', 'HR', 'AR'],\n",
      "      dtype='object')\n"
     ]
    }
   ],
   "source": [
    "print(matchs.shape)\n",
    "print(matchs.columns)"
   ]
  },
  {
   "cell_type": "markdown",
   "metadata": {},
   "source": [
    "Les noms des variables sont changés à l'aide de la fonction `.rename` et l'argument `inplace=True` pour modifier le *data frame* existant"
   ]
  },
  {
   "cell_type": "code",
   "execution_count": 4,
   "metadata": {},
   "outputs": [],
   "source": [
    "matchs.rename(columns={'Season':'Saison',\n",
    "                        'HomeTeam':'Domicile',\n",
    "                        'AwayTeam':'Exterieur',\n",
    "                        'FTR':'Resultat',\n",
    "                        'HTR':'Resultat (mi-temps)',\n",
    "                        'FTHG':'Buts domicile', \n",
    "                        'FTAG':'Buts exterieur',\n",
    "                        'HTHG':'But domicile (mi-temps)',\n",
    "                        'HTAG':'But exterieur (mi-temps)',\n",
    "                        'HS':'Tirs domicile',\n",
    "                        'AS':'Tirs exterieur',\n",
    "                        'HST':'Tirs cadres domicile',\n",
    "                        'HST':'Tirs cadres domicile',\n",
    "                        'AST':'Tirs cadres exterieur',\n",
    "                        'HF':'Fautes domicile',\n",
    "                        'AF':'Fautes exterieur',\n",
    "                        'HC':'Corners domicile',\n",
    "                        'AC':'Corners exterieur',\n",
    "                        'HY':'Cartons jaunes domicile',\n",
    "                        'AY':'Cartons jaunes exterieur',\n",
    "                        'HR':'Cartons rouges domicile',\n",
    "                        'AR':'Cartons rouges exterieur'\n",
    "                        }, inplace=True)"
   ]
  },
  {
   "cell_type": "code",
   "execution_count": 5,
   "metadata": {},
   "outputs": [
    {
     "data": {
      "text/plain": [
       "Index(['Date', 'Saison', 'Domicile', 'Exterieur', 'Buts domicile',\n",
       "       'Buts exterieur', 'Resultat', 'But domicile (mi-temps)',\n",
       "       'But exterieur (mi-temps)', 'Resultat (mi-temps)', 'Tirs domicile',\n",
       "       'Tirs exterieur', 'Tirs cadres domicile', 'Tirs cadres exterieur',\n",
       "       'Fautes domicile', 'Fautes exterieur', 'Corners domicile',\n",
       "       'Corners exterieur', 'Cartons jaunes domicile',\n",
       "       'Cartons jaunes exterieur', 'Cartons rouges domicile',\n",
       "       'Cartons rouges exterieur'],\n",
       "      dtype='object')"
      ]
     },
     "execution_count": 5,
     "metadata": {},
     "output_type": "execute_result"
    }
   ],
   "source": [
    "matchs.columns"
   ]
  },
  {
   "cell_type": "markdown",
   "metadata": {},
   "source": [
    "Une fois les noms de colonnes modifiés, on peut maintenant mieux visualiser les données au sein du *data frame* en appellant la méthode `df.head()`"
   ]
  },
  {
   "cell_type": "code",
   "execution_count": 6,
   "metadata": {},
   "outputs": [
    {
     "data": {
      "text/html": [
       "<div>\n",
       "<style scoped>\n",
       "    .dataframe tbody tr th:only-of-type {\n",
       "        vertical-align: middle;\n",
       "    }\n",
       "\n",
       "    .dataframe tbody tr th {\n",
       "        vertical-align: top;\n",
       "    }\n",
       "\n",
       "    .dataframe thead th {\n",
       "        text-align: right;\n",
       "    }\n",
       "</style>\n",
       "<table border=\"1\" class=\"dataframe\">\n",
       "  <thead>\n",
       "    <tr style=\"text-align: right;\">\n",
       "      <th></th>\n",
       "      <th>Date</th>\n",
       "      <th>Saison</th>\n",
       "      <th>Domicile</th>\n",
       "      <th>Exterieur</th>\n",
       "      <th>Buts domicile</th>\n",
       "      <th>Buts exterieur</th>\n",
       "      <th>Resultat</th>\n",
       "      <th>But domicile (mi-temps)</th>\n",
       "      <th>But exterieur (mi-temps)</th>\n",
       "      <th>Resultat (mi-temps)</th>\n",
       "      <th>...</th>\n",
       "      <th>Tirs cadres domicile</th>\n",
       "      <th>Tirs cadres exterieur</th>\n",
       "      <th>Fautes domicile</th>\n",
       "      <th>Fautes exterieur</th>\n",
       "      <th>Corners domicile</th>\n",
       "      <th>Corners exterieur</th>\n",
       "      <th>Cartons jaunes domicile</th>\n",
       "      <th>Cartons jaunes exterieur</th>\n",
       "      <th>Cartons rouges domicile</th>\n",
       "      <th>Cartons rouges exterieur</th>\n",
       "    </tr>\n",
       "  </thead>\n",
       "  <tbody>\n",
       "    <tr>\n",
       "      <th>0</th>\n",
       "      <td>19/08/00</td>\n",
       "      <td>2000-2001</td>\n",
       "      <td>Charlton</td>\n",
       "      <td>Man City</td>\n",
       "      <td>4</td>\n",
       "      <td>0</td>\n",
       "      <td>H</td>\n",
       "      <td>2</td>\n",
       "      <td>0</td>\n",
       "      <td>H</td>\n",
       "      <td>...</td>\n",
       "      <td>14</td>\n",
       "      <td>4</td>\n",
       "      <td>13</td>\n",
       "      <td>12</td>\n",
       "      <td>6</td>\n",
       "      <td>6</td>\n",
       "      <td>1</td>\n",
       "      <td>2</td>\n",
       "      <td>0</td>\n",
       "      <td>0</td>\n",
       "    </tr>\n",
       "    <tr>\n",
       "      <th>1</th>\n",
       "      <td>19/08/00</td>\n",
       "      <td>2000-2001</td>\n",
       "      <td>Chelsea</td>\n",
       "      <td>West Ham</td>\n",
       "      <td>4</td>\n",
       "      <td>2</td>\n",
       "      <td>H</td>\n",
       "      <td>1</td>\n",
       "      <td>0</td>\n",
       "      <td>H</td>\n",
       "      <td>...</td>\n",
       "      <td>10</td>\n",
       "      <td>5</td>\n",
       "      <td>19</td>\n",
       "      <td>14</td>\n",
       "      <td>7</td>\n",
       "      <td>7</td>\n",
       "      <td>1</td>\n",
       "      <td>2</td>\n",
       "      <td>0</td>\n",
       "      <td>0</td>\n",
       "    </tr>\n",
       "    <tr>\n",
       "      <th>2</th>\n",
       "      <td>19/08/00</td>\n",
       "      <td>2000-2001</td>\n",
       "      <td>Coventry</td>\n",
       "      <td>Middlesbrough</td>\n",
       "      <td>1</td>\n",
       "      <td>3</td>\n",
       "      <td>A</td>\n",
       "      <td>1</td>\n",
       "      <td>1</td>\n",
       "      <td>D</td>\n",
       "      <td>...</td>\n",
       "      <td>3</td>\n",
       "      <td>9</td>\n",
       "      <td>15</td>\n",
       "      <td>21</td>\n",
       "      <td>8</td>\n",
       "      <td>4</td>\n",
       "      <td>5</td>\n",
       "      <td>3</td>\n",
       "      <td>1</td>\n",
       "      <td>0</td>\n",
       "    </tr>\n",
       "    <tr>\n",
       "      <th>3</th>\n",
       "      <td>19/08/00</td>\n",
       "      <td>2000-2001</td>\n",
       "      <td>Derby</td>\n",
       "      <td>Southampton</td>\n",
       "      <td>2</td>\n",
       "      <td>2</td>\n",
       "      <td>D</td>\n",
       "      <td>1</td>\n",
       "      <td>2</td>\n",
       "      <td>A</td>\n",
       "      <td>...</td>\n",
       "      <td>4</td>\n",
       "      <td>6</td>\n",
       "      <td>11</td>\n",
       "      <td>13</td>\n",
       "      <td>5</td>\n",
       "      <td>8</td>\n",
       "      <td>1</td>\n",
       "      <td>1</td>\n",
       "      <td>0</td>\n",
       "      <td>0</td>\n",
       "    </tr>\n",
       "    <tr>\n",
       "      <th>4</th>\n",
       "      <td>19/08/00</td>\n",
       "      <td>2000-2001</td>\n",
       "      <td>Leeds</td>\n",
       "      <td>Everton</td>\n",
       "      <td>2</td>\n",
       "      <td>0</td>\n",
       "      <td>H</td>\n",
       "      <td>2</td>\n",
       "      <td>0</td>\n",
       "      <td>H</td>\n",
       "      <td>...</td>\n",
       "      <td>8</td>\n",
       "      <td>6</td>\n",
       "      <td>21</td>\n",
       "      <td>20</td>\n",
       "      <td>6</td>\n",
       "      <td>4</td>\n",
       "      <td>1</td>\n",
       "      <td>3</td>\n",
       "      <td>0</td>\n",
       "      <td>0</td>\n",
       "    </tr>\n",
       "  </tbody>\n",
       "</table>\n",
       "<p>5 rows × 22 columns</p>\n",
       "</div>"
      ],
      "text/plain": [
       "       Date     Saison  Domicile      Exterieur  Buts domicile  \\\n",
       "0  19/08/00  2000-2001  Charlton       Man City              4   \n",
       "1  19/08/00  2000-2001   Chelsea       West Ham              4   \n",
       "2  19/08/00  2000-2001  Coventry  Middlesbrough              1   \n",
       "3  19/08/00  2000-2001     Derby    Southampton              2   \n",
       "4  19/08/00  2000-2001     Leeds        Everton              2   \n",
       "\n",
       "   Buts exterieur Resultat  But domicile (mi-temps)  But exterieur (mi-temps)  \\\n",
       "0               0        H                        2                         0   \n",
       "1               2        H                        1                         0   \n",
       "2               3        A                        1                         1   \n",
       "3               2        D                        1                         2   \n",
       "4               0        H                        2                         0   \n",
       "\n",
       "  Resultat (mi-temps)  ...  Tirs cadres domicile  Tirs cadres exterieur  \\\n",
       "0                   H  ...                    14                      4   \n",
       "1                   H  ...                    10                      5   \n",
       "2                   D  ...                     3                      9   \n",
       "3                   A  ...                     4                      6   \n",
       "4                   H  ...                     8                      6   \n",
       "\n",
       "   Fautes domicile  Fautes exterieur  Corners domicile  Corners exterieur  \\\n",
       "0               13                12                 6                  6   \n",
       "1               19                14                 7                  7   \n",
       "2               15                21                 8                  4   \n",
       "3               11                13                 5                  8   \n",
       "4               21                20                 6                  4   \n",
       "\n",
       "   Cartons jaunes domicile  Cartons jaunes exterieur  Cartons rouges domicile  \\\n",
       "0                        1                         2                        0   \n",
       "1                        1                         2                        0   \n",
       "2                        5                         3                        1   \n",
       "3                        1                         1                        0   \n",
       "4                        1                         3                        0   \n",
       "\n",
       "   Cartons rouges exterieur  \n",
       "0                         0  \n",
       "1                         0  \n",
       "2                         0  \n",
       "3                         0  \n",
       "4                         0  \n",
       "\n",
       "[5 rows x 22 columns]"
      ]
     },
     "execution_count": 6,
     "metadata": {},
     "output_type": "execute_result"
    }
   ],
   "source": [
    "matchs.head()"
   ]
  },
  {
   "cell_type": "markdown",
   "metadata": {},
   "source": [
    "On peut remplacer les données des colonnes `Resultat` et `Resultat (mi-temps)` par des noms plus explicites dans le buts de faciliter l'analyse à l'aide de la méthode `df.map()`"
   ]
  },
  {
   "cell_type": "code",
   "execution_count": 7,
   "metadata": {},
   "outputs": [],
   "source": [
    "map_resultat = {'H':'Victoire domicile', 'D':'Match nul', 'A':'Victoire exterieur'}\n",
    "matchs['Resultat'] = matchs['Resultat'].map(map_resultat)\n",
    "matchs['Resultat (mi-temps)'] = matchs['Resultat (mi-temps)'].map(map_resultat)"
   ]
  },
  {
   "cell_type": "code",
   "execution_count": 8,
   "metadata": {},
   "outputs": [
    {
     "name": "stdout",
     "output_type": "stream",
     "text": [
      "0        Victoire domicile\n",
      "1        Victoire domicile\n",
      "2       Victoire exterieur\n",
      "3                Match nul\n",
      "4        Victoire domicile\n",
      "               ...        \n",
      "9313    Victoire exterieur\n",
      "9314    Victoire exterieur\n",
      "9315     Victoire domicile\n",
      "9316     Victoire domicile\n",
      "9317    Victoire exterieur\n",
      "Name: Resultat, Length: 9318, dtype: object\n"
     ]
    }
   ],
   "source": [
    "print(matchs['Resultat'])"
   ]
  },
  {
   "cell_type": "code",
   "execution_count": 9,
   "metadata": {},
   "outputs": [],
   "source": [
    "import matplotlib.pyplot as plt\n",
    "import seaborn as sns"
   ]
  },
  {
   "cell_type": "code",
   "execution_count": 10,
   "metadata": {},
   "outputs": [
    {
     "name": "stderr",
     "output_type": "stream",
     "text": [
      "/var/folders/nj/c0z4p4yx3m3bqsn8p3dx_mmr0000gn/T/ipykernel_66002/1943194029.py:2: FutureWarning: \n",
      "\n",
      "The `ci` parameter is deprecated. Use `errorbar=None` for the same effect.\n",
      "\n",
      "  sns.catplot(kind='bar',\n"
     ]
    },
    {
     "data": {
      "image/png": "[encoded data removed]",
      "text/plain": [
       "<Figure size 811.111x400 with 1 Axes>"
      ]
     },
     "metadata": {},
     "output_type": "display_data"
    }
   ],
   "source": [
    "# 1 Visualisation des cartons rouges et jaunes \n",
    "sns.catplot(kind='bar',\n",
    "            data=matchs.melt(value_vars=['Cartons jaunes domicile', 'Cartons rouges domicile',\n",
    "                                       'Cartons jaunes exterieur', 'Cartons rouges exterieur']),\n",
    "            x='variable', y='value', ci=None, height=4, aspect=2)\\\n",
    "   .set(xlabel='Type de carton', ylabel='Moyenne par match',\n",
    "        title='Comparaison des cartons (domicile vs extérieur)')\n",
    "plt.savefig('./graphiques/cartons.png', dpi=300, bbox_inches='tight')"
   ]
  },
  {
   "cell_type": "markdown",
   "metadata": {},
   "source": [
    "**Les équipes à domicile commettent-elles moins de fautes que celles à l'extérieur ?**\n",
    "\n",
    "Le graphique montre que les équipes à domicile reçoivent légèrement moins de cartons jaunes/rouges, suggérant un possible biais de l'arbitre en leur faveur ou une pression moindre.\n",
    "\n",
    "**Les cartons rouges sont-ils significativement plus fréquents à l'extérieur ?**\n",
    "\n",
    "Non, la différence est marginale, mais les cartons jaunes sont plus élevés à l'extérieur, peut-être due à un jeu plus défensif.\n",
    "\n",
    "Donc l'avantage du terrain pourrait inclure un traitement arbitral plus clément donc on concllue que moin de carton plus de victoires"
   ]
  },
  {
   "cell_type": "code",
   "execution_count": 11,
   "metadata": {},
   "outputs": [
    {
     "data": {
      "image/png": "[encoded data removed]",
      "text/plain": [
       "<Figure size 970.125x400 with 1 Axes>"
      ]
     },
     "metadata": {},
     "output_type": "display_data"
    }
   ],
   "source": [
    "# 2 Performance des top 5 équipes à domicile\n",
    "top_5_equipes = matchs['Domicile'].value_counts().nlargest(5).index\n",
    "sns.catplot(kind='count', x='Domicile', hue='Resultat',\n",
    "            data=matchs[matchs['Domicile'].isin(top_5_equipes)],\n",
    "            height=4, aspect=2)\\\n",
    "   .set(xlabel='Équipe', ylabel='Nombre de matchs',\n",
    "        title='Performance à domicile des 5 équipes les plus actives')\n",
    "plt.savefig('./graphiques/perf_top5.png', dpi=300, bbox_inches='tight')"
   ]
  },
  {
   "cell_type": "markdown",
   "metadata": {},
   "source": [
    "**Les équipes les plus fréquentes à domicile ont-elles un meilleur taux de victoires ?**\n",
    "\n",
    "Oui, les tops équipes (Arsenal, Chelsea) ont plus de victoires que de nuls ou des défaites, confirmant l'importance du facteur \"domicile\".\n",
    "\n",
    "**Y a-t-il des exceptions où le nul est fréquent ?**\n",
    "\n",
    "Pour certaines équipes (Aston Villa ) le nombre de nuls reste élevé, indiquant des tactiques plus défensives.\n",
    "\n",
    "La qualité de l'équipe et l'avantage du terrain sont des facteurs majeurs, mais certaines équipes \"neutralisent\" mieux cet avantage."
   ]
  },
  {
   "cell_type": "code",
   "execution_count": 12,
   "metadata": {},
   "outputs": [
    {
     "data": {
      "image/png": "[encoded data removed]",
      "text/plain": [
       "<Figure size 770.125x400 with 1 Axes>"
      ]
     },
     "metadata": {},
     "output_type": "display_data"
    }
   ],
   "source": [
    "# 3 Comparaison resultats mi-temps vs fin de match\n",
    "sns.catplot(kind='count', x='Resultat (mi-temps)', hue='Resultat',\n",
    "            data=matchs, height=4, aspect=1.5)\\\n",
    "   .set(title='Résultats à la mi-temps vs résultats finaux',\n",
    "        xlabel='Résultat mi-temps', ylabel='Nombre de matchs')\n",
    "plt.savefig('./graphiques/demi_final.png', dpi=300, bbox_inches='tight')\n",
    "plt.show()"
   ]
  },
  {
   "cell_type": "markdown",
   "metadata": {},
   "source": [
    "**Une avance à la mi-temps garantit-elle une victoire finale ?**\n",
    "\n",
    "La majorité des victoires à mi-temps se transforment en victoires finales, mais ~15-20% des matchs voient un retournement (nul ou défaite).\n",
    "\n",
    "**Les matchs nuls à la mi-temps sont-ils souvent départagés ensuite ?**\n",
    "\n",
    "Oui, environ la moitié des nuls à la mi-temps évoluent vers une victoire (souvent pour l'équipe à domicile).\n",
    "\n",
    "Le mental et les ajustements tactiques en 2e mi-temps jouent un rôle crucial, surtout pour les équipes à domicile.\n",
    "\n"
   ]
  },
  {
   "cell_type": "code",
   "execution_count": 13,
   "metadata": {},
   "outputs": [
    {
     "data": {
      "image/png": "[encoded data removed]",
      "text/plain": [
       "<Figure size 640x480 with 2 Axes>"
      ]
     },
     "metadata": {},
     "output_type": "display_data"
    }
   ],
   "source": [
    "# 4 ANALYSE DE CORRÉLATION : QUELS STATS INFLUENCENT LE RÉSULTAT ?\n",
    "# Conversion des résultats en valeurs numériques pour l'analyse\n",
    "matchs['Resultat_num'] = matchs['Resultat'].map({'Victoire domicile':1, 'Match nul':0, 'Victoire exterieur':-1})\n",
    "# Calcul des corrélations\n",
    "corr_data = matchs[['Buts domicile', 'Buts exterieur','Tirs domicile', 'Tirs exterieur','Tirs cadres domicile', 'Tirs cadres exterieur','Fautes domicile', 'Fautes exterieur',\n",
    "                   'Corners domicile', 'Corners exterieur','Cartons jaunes domicile', 'Cartons jaunes exterieur','Cartons rouges domicile', 'Cartons rouges exterieur',\n",
    "                   'Resultat_num']].corr()[['Resultat_num']].drop('Resultat_num')\n",
    "# Heatmap révélant l'impact des différentes statistiques\n",
    "sns.heatmap(corr_data, annot=True, cmap='coolwarm', center=0, vmin=-1, vmax=1, linewidths=.5,\n",
    "            cbar_kws={'label': 'Coefficient de corrélation'})\\\n",
    "   .set(title='Corrélation des statistiques avec le résultat final')\n",
    "plt.savefig('./graphiques/correl.png', dpi=300, bbox_inches='tight')\n",
    "plt.show()"
   ]
  },
  {
   "cell_type": "markdown",
   "metadata": {},
   "source": [
    "Quels sont les indicateurs statistiques les plus fiables pour prédire l'issue d’un match de football selon les données analysées ?\n",
    "Les tirs cadrés > tirs simples (meilleur indicateur de victoire)\n",
    "L'avantage à domicile est marqué \n",
    "Les cartons montrent peu de corrélation \n",
    "Les corners sont un bon indicateur offensif\n",
    "\n",
    "Nos analyses préliminaires ont révélé plusieurs insights clés qui vont guider notre modélisation "
   ]
  },
  {
   "cell_type": "markdown",
   "metadata": {},
   "source": [
    "# Question 2 : Selon les facteurs identifiés, est-il possible de créer un modèle capable de prédire les résultats futurs avec une précision supérieure au hasard?"
   ]
  },
  {
   "cell_type": "markdown",
   "metadata": {},
   "source": [
    "Notre second objectif se base sur cette analyse initiale en prenant et utilise les principaux facteurs relevés dans le but de pouvoir prédire les résultats des matchs futurs. Nous voulons au terme de cet étapes non seulement créer un modèle qui performe mieux que le hasard mais également faire en sorte que celui-ci puisse être utilisé. Ce second objectif se traduit en trois étapes clés : \n",
    "\n",
    "**1.** Le *feature engineering* des variables explicatives : constitue *l'étape la plus cruciale de ce second objectif* et repose sur **la création de variables tirées du jeu de données initiales pour aider le modèle à prédire** la variable cible. Par exemple créer une variable identifiant pour chaque match le nombre de victoires de chacune des deux équipes au courant de leurs 5 derniers matchs respectifs. \n",
    "\n",
    "**2.** La création du modèle prédictif : nous utiliserons à cette la librairie *Scikit-Learn* pour accèder à différents algorithmes prédictifs, pour entraîner, tester et évaluer les performances de notre modèle\n",
    "\n",
    "**3.** Premettre l'utilisation du modèle : comme dernière étape, nous allons écrire une fonction permettant d'utiliser le modèle entraîné pour permettre de **réellement prédire le résultats des matchs futurs**"
   ]
  },
  {
   "cell_type": "markdown",
   "metadata": {},
   "source": [
    "## Création de variables explicatives à travers le *feature engineering* "
   ]
  },
  {
   "cell_type": "markdown",
   "metadata": {},
   "source": [
    "Dans cette section, nous transformons nos données brutes en indicateurs pertinents pour la prédiction des matchs de football. Cette étape est cruciale car la qualité du modèle dépend directement de la pertinence des variables utilisées.\n",
    "\n",
    "Notre approche s'articule autour de trois axes principaux :\n",
    "\n",
    "- Représentation de la **forme récente** : Nous calculons un score de \"forme\" pour chaque équipe basé sur leurs 5 derniers matchs, reflétant leur dynamique actuelle.\n",
    "\n",
    "- Statistiques **offensives et défensives** : Nous créons des indicateurs de performance offensive (buts marqués) et défensive (buts encaissés) à domicile et à l'extérieur, permettant de capturer les forces et faiblesses spécifiques de chaque équipe selon le contexte de jeu.\n",
    "- Historique des confrontations directes : Nous intégrons l'historique des face-à-face entre les équipes, un facteur souvent déterminant dans l'issue d'une rencontre.\n",
    "\n",
    "Ces nouvelles variables enrichissent considérablement notre jeu de données initial et permettent au modèle d'apprentissage de saisir des tendances complexes qui ne seraient pas visibles avec les statistiques brutes de matchs individuels."
   ]
  },
  {
   "cell_type": "markdown",
   "metadata": {},
   "source": [
    "Pour que nos données puissent être passées à travers différents algorithmes dans le but de prédire les résultats futurs, on doit s'assurer que le type des variables concernées soit des `float`, `int` ou des variables catégorielles\n",
    "\n",
    "En appellant `pd.info()` on peut voir que la première colonne à modifier serait `Date` pour la mettre en format `datetime` en appellant `pd.to_datetime()`. Cette variable pourra être par la suite transformée en `int` en considérant par exemple la semaine où le match a eu lieu depuis le début de la saison"
   ]
  },
  {
   "cell_type": "code",
   "execution_count": 14,
   "metadata": {},
   "outputs": [
    {
     "name": "stdout",
     "output_type": "stream",
     "text": [
      "<class 'pandas.core.frame.DataFrame'>\n",
      "RangeIndex: 9318 entries, 0 to 9317\n",
      "Data columns (total 23 columns):\n",
      " #   Column                    Non-Null Count  Dtype \n",
      "---  ------                    --------------  ----- \n",
      " 0   Date                      9318 non-null   object\n",
      " 1   Saison                    9318 non-null   object\n",
      " 2   Domicile                  9318 non-null   object\n",
      " 3   Exterieur                 9318 non-null   object\n",
      " 4   Buts domicile             9318 non-null   int64 \n",
      " 5   Buts exterieur            9318 non-null   int64 \n",
      " 6   Resultat                  9318 non-null   object\n",
      " 7   But domicile (mi-temps)   9318 non-null   int64 \n",
      " 8   But exterieur (mi-temps)  9318 non-null   int64 \n",
      " 9   Resultat (mi-temps)       9318 non-null   object\n",
      " 10  Tirs domicile             9318 non-null   int64 \n",
      " 11  Tirs exterieur            9318 non-null   int64 \n",
      " 12  Tirs cadres domicile      9318 non-null   int64 \n",
      " 13  Tirs cadres exterieur     9318 non-null   int64 \n",
      " 14  Fautes domicile           9318 non-null   int64 \n",
      " 15  Fautes exterieur          9318 non-null   int64 \n",
      " 16  Corners domicile          9318 non-null   int64 \n",
      " 17  Corners exterieur         9318 non-null   int64 \n",
      " 18  Cartons jaunes domicile   9318 non-null   int64 \n",
      " 19  Cartons jaunes exterieur  9318 non-null   int64 \n",
      " 20  Cartons rouges domicile   9318 non-null   int64 \n",
      " 21  Cartons rouges exterieur  9318 non-null   int64 \n",
      " 22  Resultat_num              9318 non-null   int64 \n",
      "dtypes: int64(17), object(6)\n",
      "memory usage: 1.6+ MB\n",
      "None\n"
     ]
    }
   ],
   "source": [
    "print(matchs.info())"
   ]
  },
  {
   "cell_type": "markdown",
   "metadata": {},
   "source": [
    "#### Transformer le format des dates"
   ]
  },
  {
   "cell_type": "markdown",
   "metadata": {},
   "source": [
    "En apellant `pd.to_datetime()` on obtient une erreur en raison des de certaines lignes (ex.$205$ à $759$) qui sont formattées de la manière `%Y-%m-%d` au lieu de `%d/%m/%Y` tel qu'accepté par la méthode\n",
    "\n",
    "Nous devons regarder de plus près pour voir ce qui cause l'erreur et pouvoir y remédier"
   ]
  },
  {
   "cell_type": "code",
   "execution_count": 15,
   "metadata": {},
   "outputs": [
    {
     "name": "stdout",
     "output_type": "stream",
     "text": [
      "204      30/12/00\n",
      "205    2001-01-01\n",
      "206    2001-01-01\n",
      "207    2001-01-01\n",
      "208    2001-01-01\n",
      "          ...    \n",
      "756    2011-05-02\n",
      "757    2011-05-02\n",
      "758    2011-05-02\n",
      "759    2011-05-02\n",
      "760    17/08/2002\n",
      "Name: Date, Length: 557, dtype: object\n"
     ]
    }
   ],
   "source": [
    "print(matchs['Date'][204:761])"
   ]
  },
  {
   "cell_type": "markdown",
   "metadata": {},
   "source": [
    "##### Rectifier les dates erronnées"
   ]
  },
  {
   "cell_type": "markdown",
   "metadata": {},
   "source": [
    "En analysant les résultats obtenus, on s'apperçoit que de nombreuses dates ont été enregistrées de manière erronnée ce qui fausse l'information au sein du *data frame*\n",
    "\n",
    "En recherchant en ligne les résultat du match correspondant à l'entrée $2013-08-16$ opposant les équipes `Burnley` et `Swansea` $(0-1)$, on s'apperçoit qu'il a réellement eu lieu à la date $13/08/2016$\n",
    "\n",
    "C'est le même cas pour les entrées suivantes: par exemple lors du cas du match correspondant à l'entrée $2021-05-17$ opposant les équipes `Watford` et `Man City` $(5-1)$, qui a réellement eu lieu à la date $21/05/2017$\n",
    "\n",
    " - Cas 1 : On doit donc créer un script afin de pouvoir modifier ces rangées pour les transformer par la suite, celui-ci devra inverser les chiffres représentant les années avec ceux représentant les jours et remplacer les `-` avec des `/`.\n",
    "\n",
    " - Cas 2 : Un deuxième problème survient dans les données plus anciennes où les années sont écrites avec seulement deux chiffres au lieu de 4 par exemple $19/08/00$ pour représenter $19/08/2000$, cette différence devra aussi être adressée"
   ]
  },
  {
   "cell_type": "code",
   "execution_count": 16,
   "metadata": {},
   "outputs": [],
   "source": [
    "# on itère à travers une liste de la longueur des rangées contenant des dates fautives\n",
    "for i in range(len(matchs)):                                     \n",
    "    # on spécifie qu'on itère à travers la colonne Date du data frame\n",
    "    row = matchs['Date'][i]                                   \n",
    "    # on identifie les dates erronnées pour le cas 1 (elles utilisent le séparateur '-')\n",
    "    if row[4:5] == '-':\n",
    "        # on extrait les valeurs de l'année qui représenteront les jours ex: (20XX-05-17) -> (XX/05/2017)\n",
    "        jour = row[2:4]                                           \n",
    "        # on extrait les valeurs du mois qui resteront les mêmes ex: (2021-XX-17) -> (21/XX/2017)\n",
    "        mois = row[5:7]                                           \n",
    "        # on extrait les valeurs des jours qui deviendront les dernières valeurs des années ex: (2021-05-XX) -> (21/05/20XX)\n",
    "        annee = row[-2:]                                          \n",
    "        # on combine maintenant les valeurs relevés en remplaçant les - avec des / pour correspondre au format datetime et on les remplace au sein de la colonne\n",
    "        matchs.loc[i, 'Date'] = f'{jour}/{mois}/20{annee}'\n",
    "    # on répète le même processus pour le cas d'erreur 2 (le séparateur '/' apparaît deux positions à partir de la fin)\n",
    "    elif row[-3:-2] == '/':\n",
    "        date = row[:-3]                                           \n",
    "        annee = row[-2:]                                          \n",
    "        matchs.loc[i, 'Date'] = f'{date}/20{annee}'      "
   ]
  },
  {
   "cell_type": "code",
   "execution_count": 17,
   "metadata": {},
   "outputs": [
    {
     "name": "stdout",
     "output_type": "stream",
     "text": [
      "380    18/08/2001\n",
      "381    18/08/2001\n",
      "382    18/08/2001\n",
      "383    18/08/2001\n",
      "384    18/08/2001\n",
      "          ...    \n",
      "755    11/05/2002\n",
      "756    11/05/2002\n",
      "757    11/05/2002\n",
      "758    11/05/2002\n",
      "759    11/05/2002\n",
      "Name: Date, Length: 380, dtype: object\n"
     ]
    }
   ],
   "source": [
    "print(matchs['Date'][380:760])"
   ]
  },
  {
   "cell_type": "code",
   "execution_count": 18,
   "metadata": {},
   "outputs": [
    {
     "name": "stdout",
     "output_type": "stream",
     "text": [
      "0      19/08/2000\n",
      "1      19/08/2000\n",
      "2      19/08/2000\n",
      "3      19/08/2000\n",
      "4      19/08/2000\n",
      "          ...    \n",
      "201    30/12/2000\n",
      "202    30/12/2000\n",
      "203    30/12/2000\n",
      "204    30/12/2000\n",
      "205    01/01/2001\n",
      "Name: Date, Length: 206, dtype: object\n"
     ]
    }
   ],
   "source": [
    "print(matchs['Date'][0:206])"
   ]
  },
  {
   "cell_type": "markdown",
   "metadata": {},
   "source": [
    "On observe donc que les dates sont maintenant correctes et peuvent donc être converties avec `pd.to_datetime()` en précisant l'argument `dayfirst=True`"
   ]
  },
  {
   "cell_type": "code",
   "execution_count": 19,
   "metadata": {},
   "outputs": [],
   "source": [
    "matchs['Date'] = pd.to_datetime(matchs['Date'], dayfirst=True)"
   ]
  },
  {
   "cell_type": "markdown",
   "metadata": {},
   "source": [
    "Avec les dates, on peut maintenant créer d'autres variables représentant les jours et les mois de la semaine, pour évaluer si certaines équipes jouent mieux ou moins bien durant certaines jours ou certains mois de l'année"
   ]
  },
  {
   "cell_type": "code",
   "execution_count": 20,
   "metadata": {},
   "outputs": [],
   "source": [
    "matchs['JoursSemaine'] = matchs['Date'].dt.day_of_week\n",
    "matchs['Mois'] = matchs['Date'].dt.month"
   ]
  },
  {
   "cell_type": "markdown",
   "metadata": {},
   "source": [
    "#### Représenter les saisons"
   ]
  },
  {
   "cell_type": "markdown",
   "metadata": {},
   "source": [
    "Pour ce qui en est de la variable saison on peut choisir de la transformer en `int` en considérant l'année de début de chaque saison. \n",
    "Par exemple, la saison $2015-2016$ deviendra $2015$, $2016-2017$ deviendra $2016$ et ainsi de suite\n",
    "\n",
    "Pour ce faire, on `str.split` avec `-` et on convertit la colonne en type `int`"
   ]
  },
  {
   "cell_type": "code",
   "execution_count": 21,
   "metadata": {},
   "outputs": [],
   "source": [
    "matchs['AnneeSaison'] = matchs['Saison'].str.split('-').str[0].astype(int)"
   ]
  },
  {
   "cell_type": "markdown",
   "metadata": {},
   "source": [
    "À partir de cette nouvelle variable, on peut maintenant créer la variable `SemaineSaison` visant à déterminer la semaine de la saison à laquelle le match a eu lieu, certaines équipes performant mieux au début, au milieu ou à la fin de la saison\n",
    "\n",
    "Pour ce faire, on associe dans `JoursSaison` le nombre de jours depuis le début de la saison $(5$ $août)$ et on divise par la suite cette colonne par $7$ pour obtenir la semaine de la saison durant laquelle l'équipe a joué. On ajoute par la suite $1$ comme dans le sport les semaines de saison sont typiquement comptées à partir de $1$"
   ]
  },
  {
   "cell_type": "code",
   "execution_count": 22,
   "metadata": {},
   "outputs": [],
   "source": [
    "# fonction anonyme calculant le nombre de jours écoulés depuis le 5 août pour chaque saison\n",
    "# Pour chaque ligne du dataframe, on calcule la différence entre la date du match (x['Date']) et le 5 août de l'année correspondant à la saison (x['AnneeSaison'])\n",
    "# on spécifie axis=1 pour s'assurer d'appliquer le calcul sur les lignes du dataframe et l'attribut days convertit cette différence en nombre de jours\n",
    "matchs['JoursSaison'] = matchs.apply(lambda x: (x['Date'] - pd.Timestamp(year=x['AnneeSaison'], month=8, day=5)).days, axis=1)      \n",
    "# on divise par 7 pour obtenir le nombre de semaines et on utilise le floor division pour obtenir un nombre entier de semaines\n",
    "# on ajoute 1 ici pour faire commencer la fonction à la semaine 1 comme sont typiquement affichés les matchs\n",
    "matchs['SemaineSaison'] = matchs['JoursSaison'] // 7 + 1                                                                            "
   ]
  },
  {
   "cell_type": "markdown",
   "metadata": {},
   "source": [
    "#### Représenter la valeur cible du modèle"
   ]
  },
  {
   "cell_type": "markdown",
   "metadata": {},
   "source": [
    "Les colonnes `Resultat` et `Resultat (mi-temps)` peuvent être réassignés dans une colonne catégorielle pour représenter $1$ dans le cas d'une victoire à domicile, $0$ dans le cas d'une victoire à l'extérieur et $2$ dans le cas d'un match nul. On utilise donc `df.map` une nouvelle fois pour réassigner ces valeurs. La valeur cible de notre modèle sera donc représentée par la colonne `Cible`, indiquant si l'équipe à domicile a gagné ou perdu. **C'est la valeur que l'on cherchera à prédire à l'aide du reste des variables**"
   ]
  },
  {
   "cell_type": "code",
   "execution_count": 23,
   "metadata": {},
   "outputs": [],
   "source": [
    "map_resultat_cat = {'Victoire exterieur':'0', 'Victoire domicile':'1', 'Match nul':'2'}\n",
    "matchs['Cible'] = (matchs['Resultat'].map(map_resultat_cat)).astype('int')"
   ]
  },
  {
   "cell_type": "markdown",
   "metadata": {},
   "source": [
    "#### Représenter les équipes"
   ]
  },
  {
   "cell_type": "markdown",
   "metadata": {},
   "source": [
    "Les valeurs des équipes dans le *data frame* sont présentement des strings et ne peuvent pas être considérées comme des intrants au modèle. Il est nécessaire de les encoder en utilisant un code numérique à l'aide de la méthode `.cat.codes` de pandas. Par le fait même, on doit également s'assurer que le même code soit utilisé par les équipes domicile et celles à l'extérieur\n",
    "\n",
    "Le code sera déterminé par odre alpabétique, *Arsenal* se verra donc associéee au code $0$, *Aston Villa* au code $1$ et ainsi de suite"
   ]
  },
  {
   "cell_type": "markdown",
   "metadata": {},
   "source": [
    "On crée premièrement un nouveau *data frame* contenant les valeurs uniques des équipes"
   ]
  },
  {
   "cell_type": "code",
   "execution_count": 24,
   "metadata": {},
   "outputs": [],
   "source": [
    "# on combine dans une liste les deux colonnes des équipes en conservant les valeurs uniques pour éviter le dédoublement\n",
    "equipes = pd.concat([matchs['Domicile'], matchs['Exterieur']]).unique()             \n",
    "# transformer la liste en data frame\n",
    "equipes_df = pd.DataFrame({'Equipe':equipes})                                       "
   ]
  },
  {
   "cell_type": "markdown",
   "metadata": {},
   "source": [
    "On associe par la suite un code numérique à chacune des équipes"
   ]
  },
  {
   "cell_type": "code",
   "execution_count": 25,
   "metadata": {},
   "outputs": [],
   "source": [
    "# on convertit en catégorie et on utilise cat.codes pour associer un code numérique à chaque équipe\n",
    "equipes_df['CodeEquipe'] = equipes_df['Equipe'].astype('category').cat.codes            \n",
    "# on crée un dictionnaire pour pouvoir mapper les noms d'équipe aux différents codes\n",
    "code_equipe = dict(zip(equipes_df['Equipe'], equipes_df['CodeEquipe']))                 \n",
    "\n",
    "# avec map on peut maintenant associer un code à chaque équipe du data frame original\n",
    "matchs['DomicileCode'] = matchs['Domicile'].map(code_equipe)                            \n",
    "matchs['ExterieurCode'] = matchs['Exterieur'].map(code_equipe)"
   ]
  },
  {
   "cell_type": "markdown",
   "metadata": {},
   "source": [
    "Avant de poursuivre à la création de prochaines variables, on crée un *data frame* en soutirant les colonnes qui ne seront pas utilisées pour la modélisation afin d'alléger les données et diminuer le temps de calcul. On utilise pour ce faire la méthode `.drop` en spécifiant les colonnes à enlever"
   ]
  },
  {
   "cell_type": "code",
   "execution_count": 26,
   "metadata": {},
   "outputs": [],
   "source": [
    "matchs_drop = matchs.drop(columns=[\n",
    "                'Domicile', 'Exterieur', 'But domicile (mi-temps)', \n",
    "                'But exterieur (mi-temps)', 'Resultat (mi-temps)', 'Tirs domicile',\n",
    "                'Tirs domicile', 'Tirs exterieur', 'Tirs cadres domicile', \n",
    "                'Tirs cadres exterieur', 'Fautes domicile', 'Fautes exterieur',\n",
    "                'Corners domicile', 'Corners exterieur', 'Cartons jaunes domicile',\n",
    "                'Cartons jaunes exterieur', 'Cartons rouges domicile', 'Cartons rouges exterieur'\n",
    "                ])"
   ]
  },
  {
   "cell_type": "markdown",
   "metadata": {},
   "source": [
    "Les colonnes résultantes seront celles utilisées pour la suite du modèle"
   ]
  },
  {
   "cell_type": "code",
   "execution_count": 27,
   "metadata": {},
   "outputs": [
    {
     "data": {
      "text/plain": [
       "Index(['Date', 'Saison', 'Buts domicile', 'Buts exterieur', 'Resultat',\n",
       "       'Resultat_num', 'JoursSemaine', 'Mois', 'AnneeSaison', 'JoursSaison',\n",
       "       'SemaineSaison', 'Cible', 'DomicileCode', 'ExterieurCode'],\n",
       "      dtype='object')"
      ]
     },
     "execution_count": 27,
     "metadata": {},
     "output_type": "execute_result"
    }
   ],
   "source": [
    "matchs_drop.columns"
   ]
  },
  {
   "cell_type": "markdown",
   "metadata": {},
   "source": [
    "#### Représenter les performances des équipes"
   ]
  },
  {
   "cell_type": "markdown",
   "metadata": {},
   "source": [
    "Il faut maintenant une manière de pouvoir évaluer la performance récente des équipes ou leur forme car il s'agit souvent d'un bon estimateur de ses résultats suivants. Une équipe venant de gagner plusieurs matchs consécutifs et qui est donc en bonne forme a généralement plus de confiance et cohésion et les points accumullés dans les matchs récents reflètent également les ajustements tactiques, le conditionnement des joueurs, leur moral et l'élan ainsi que les stratégies de l'équipe\n",
    "\n",
    "On créera donc une fonction qui consulte les 5 matchs les plus récents pour chaque équipe et attribue $3$ points pour une victoire, $1$ point pour un match nul et $0$ pour une défaite\n",
    "\n",
    "On calculera également les statistiques de buts des équipes depuis le début de la saison sous la forme d'une moyenne qui mesurerait la moyenne de buts marqués et encaissés par match. Ces métriques nous permettront par la suite d'établir des différentiels qui déduisent le nombre de buts encaissés du nombre de buts marqués dans le but d'essayer d'en déduire la performance future des équipes\n",
    "\n",
    "L'ensemble de ces statistiques seront représentées dans la fonction `stats_equipe` qui pourra être par la suite appliquée à l'ensemble du *data frame* "
   ]
  },
  {
   "cell_type": "code",
   "execution_count": 28,
   "metadata": {},
   "outputs": [],
   "source": [
    "def stats_equipe(matchs):                      \n",
    "    # on trie les données par date\n",
    "    matchs = matchs.sort_values('Date')              \n",
    "    \n",
    "    # on initialise à 0 les deux colonnes ou seront stockés les points de forme\n",
    "    matchs['DomicileForme'] = 0                         \n",
    "    matchs['ExterieurForme'] = 0\n",
    "\n",
    "    # on crée les colonnes où seront stockées les statistiques de but\n",
    "    colonnes_buts = [\n",
    "    'DomicileAvgButsMarques_Home', 'DomicileAvgButsEncaisses_Home',     \n",
    "    'DomicileAvgButsMarques_Away', 'DomicileAvgButsEncaisses_Away',\n",
    "    'ExterieurAvgButsMarques_Home', 'ExterieurAvgButsEncaisses_Home',\n",
    "    'ExterieurAvgButsMarques_Away', 'ExterieurAvgButsEncaisses_Away']\n",
    "\n",
    "    # on initialise à 0 les colonnes où seront stockées les statistiques de but en itérant à travers\n",
    "    for col in colonnes_buts:\n",
    "        matchs[col] = 0.0\n",
    "\n",
    "    \n",
    "    for i in range(len(matchs)):                         # on itère à travers chacun des matchs du dataframe \n",
    "        # on doit en premier lieu pour chacune des lignes du data frame, prendre les informations de la ligne (du match actuel) pour pouvoir calculer les statistiques en fonction des matchs ayant eu lieu avant celui-ci\n",
    "        # par exemple supposons que le match actuel oppose Arsenal (code 0) et Aston Villa (code 1) et a eu lieu le 1er décembre 2024:\n",
    "        match_actuel = matchs.iloc[i]                    # on stocke les information du match actuel dans la variable match_actuel en incluant les équipes qui jouent, la date et la saison\n",
    "        equipe_domicile = match_actuel['DomicileCode']   # dans l'exemple, ici sera stocké 0 (code Arsenal) \n",
    "        equipe_exterieur = match_actuel['ExterieurCode'] # dans l'exemple, ici sera stocké 1 (code Aston Villa)\n",
    "        date_match = match_actuel['Date']                # dans l'exemple, ici sera stocké la date du 1er décembre 2024\n",
    "        saison_match = match_actuel['AnneeSaison']       # et ici serait stocké la saison du match dans ce cas-ci la saison 2024\n",
    "\n",
    "        # on cherche maintenant les 5 derniers matchs où l'équipe a joué. on commence par l'équipe à domicile\n",
    "        # dans l'exemple, on chercherait donc à savoir les matchs avant le 1er décembre où Arsenal a joué soit à l'extérieur ou a domicile, on les trie par la suite en ordre décroissant et on conserve les 5 derniers\n",
    "        prec_domicile_5 = matchs[(matchs['Date'] < date_match) &\n",
    "                               ((matchs['DomicileCode'] == equipe_domicile) | (matchs['ExterieurCode'] == equipe_domicile))]\n",
    "        prec_domicile_5 = prec_domicile_5.sort_values('Date', ascending=False).head(5)\n",
    "        \n",
    "        # on fait le même processus pour l'équipe à l'extérieur en cherchant les 5 derniers matchs où elle a joué \n",
    "        # dans l'exemple on chercherait donc à savoir les matchs où Aston Villa a joué soit à l'extérieur ou à domicile en conservant les 5 derniers\n",
    "        prec_exterieur_5 = matchs[(matchs['Date'] < date_match) & \n",
    "                                ((matchs['DomicileCode'] == equipe_exterieur) | (matchs['ExterieurCode'] == equipe_exterieur))]\n",
    "        prec_exterieur_5 = prec_exterieur_5.sort_values('Date', ascending=False).head(5)\n",
    "\n",
    "        # afin de pouvoir calculer les statistiques de but, on cherche maintenant à connaître les performance d'Arsenal et de Aston Villa pour l'entièreté de la saison actuelle\n",
    "        # dans l'exmeple, on cherche donc les matchs ayant eu lieu avant le 1er décembre et durant la saison 2024 où Arsenal a joué à domicile ou à l'extérieur\n",
    "        prec_domicile_saison = matchs[(matchs['Date'] < date_match) & (matchs['AnneeSaison'] == saison_match) &\n",
    "                               ((matchs['DomicileCode'] == equipe_domicile) | (matchs['ExterieurCode'] == equipe_domicile))]\n",
    "        \n",
    "        # on fait le même processus pour l'équipe à l'extérieur\n",
    "        # dans l'exemple on chercherait les matchs joués avant le 1er décembre durant la saison 2024 où Aston Villa a joué\n",
    "        prec_exterieur_saison = matchs[(matchs['Date'] < date_match) & (matchs['AnneeSaison'] == saison_match) & \n",
    "                                ((matchs['DomicileCode'] == equipe_exterieur) | (matchs['ExterieurCode'] == equipe_exterieur))]\n",
    "\n",
    "        # calcul des points de forme pour l'équipe à domicile\n",
    "        # on initialise la variable qui comptera le nombre de points récoltés à domicile\n",
    "        points_domicile = 0\n",
    "        for j in range(len(prec_domicile_5)):             # on itère à travers les matchs précédents qui ont été trouvés et stockés dans prec_domicile_5\n",
    "            match_prec = prec_domicile_5.iloc[j]          # on stocke les informations de chaque itération du match précédant dans la variable match_prec\n",
    "            # on itére à travers les 5 derniers matchs et on ajoute 3 points pour chaque victoire à domicile ou à l'extérieur et 1 point par match nul\n",
    "            # dans l'exemple, si Arsenal a gagné 3 matchs parmi ses 5 derniers, l'équipe se vera attribuer 3 points\n",
    "            if match_prec['DomicileCode'] == equipe_domicile and match_prec['Cible'] == 1:\n",
    "                points_domicile += 3\n",
    "            elif match_prec['ExterieurCode'] == equipe_domicile and match_prec['Cible'] == 0:\n",
    "                points_domicile += 3\n",
    "            else:\n",
    "                points_domicile += 1\n",
    "\n",
    "        # on répète la même procédure pour l'équipe à l'extérieur\n",
    "        points_exterieur = 0\n",
    "        for l in range(len(prec_exterieur_5)):          \n",
    "            match_prec = prec_exterieur_5.iloc[l]          \n",
    "            # dans l'exemple, si Aston Villa a gagné 1 match parmi ses 5 derniers, l'équipe se vera attribuer 1 point\n",
    "            if match_prec['DomicileCode'] == equipe_exterieur and match_prec['Cible'] == 1:\n",
    "                points_exterieur += 3\n",
    "            elif match_prec['ExterieurCode'] == equipe_exterieur and match_prec['Cible'] == 0:\n",
    "                points_exterieur += 3\n",
    "            else:\n",
    "                points_exterieur += 1\n",
    "       \n",
    "        # on met à jour les colonnes récoltant le total des points à domicile et à l'extérieur\n",
    "        # dans l'exemple, pour le match du 1er décembre Arsenal obtiendra un score de 3 dans la colonne DomicileForme\n",
    "        matchs.at[i, 'DomicileForme'] = points_domicile\n",
    "        # dans l'exemple, pour le match du 1er décembre Aston Villa obtiendra un score de 1 dans la colonne ExterieurForme\n",
    "        matchs.at[i, 'ExterieurForme'] = points_exterieur    \n",
    "\n",
    "        # calcul des statistiques de buts pour l'équipe à domicile\n",
    "        # dans l'exemple, on cherche ici à savoir parmi les matchs de la saison 2024 ayant eu lieu avant le 1er décembre ou Arsenal a joué, lesquels l'équipe a joué à domicile\n",
    "        dom_home_matches = prec_domicile_saison[prec_domicile_saison['DomicileCode'] == equipe_domicile]\n",
    "        # et lesquels Arsenal a joué à l'extérieur\n",
    "        dom_away_matches = prec_domicile_saison[prec_domicile_saison['ExterieurCode'] == equipe_domicile]\n",
    "        \n",
    "        # calcul des statistiques de buts pour l'équipe à l'exterieur\n",
    "        # dans l'exemple, on cherche ici à savoir parmi les matchs de la saison 2024 ayant eu lieu avant le 1er décembre ou Aston Villa a joué, lesquels l'équipe a joué à domicile\n",
    "        ext_home_matches = prec_exterieur_saison[prec_exterieur_saison['DomicileCode'] == equipe_exterieur]\n",
    "        # et lesquels Aston Villa a joué à l'extérieur\n",
    "        ext_away_matches = prec_exterieur_saison[prec_exterieur_saison['ExterieurCode'] == equipe_exterieur]\n",
    "\n",
    "        # calcul des moyennes de buts pour l'équipe à domicile\n",
    "        # on calcule maintenant parmi tous les matchs joués à domcile par Arsenal avant le 1er décembre de la saison 2024, quel était la moyenne de buts marqués et encaissés par match de l'équipe\n",
    "        # on ajoute la condition if len > 0: dasn le but d'éviter une division par 0 pour le 1er match de chaque saison\n",
    "        if len(dom_home_matches) > 0:\n",
    "            matchs.at[i, 'DomicileAvgButsMarques_Home'] = dom_home_matches['Buts domicile'].mean()\n",
    "            matchs.at[i, 'DomicileAvgButsEncaisses_Home'] = dom_home_matches['Buts exterieur'].mean()\n",
    "        \n",
    "        # même principe pour les matchs qu'Arsenal a joué à l'extérieur\n",
    "        if len(dom_away_matches) > 0:\n",
    "            matchs.at[i, 'DomicileAvgButsMarques_Away'] = dom_away_matches['Buts exterieur'].mean()\n",
    "            matchs.at[i, 'DomicileAvgButsEncaisses_Away'] = dom_away_matches['Buts domicile'].mean()\n",
    "        \n",
    "        # on effectue ici exactement la même opération pour calculer les statistiques de buts d'Aston Villa\n",
    "        if len(ext_home_matches) > 0:\n",
    "            matchs.at[i, 'ExterieurAvgButsMarques_Home'] = ext_home_matches['Buts domicile'].mean()\n",
    "            matchs.at[i, 'ExterieurAvgButsEncaisses_Home'] = ext_home_matches['Buts exterieur'].mean()\n",
    "        \n",
    "        if len(ext_away_matches) > 0:\n",
    "            matchs.at[i, 'ExterieurAvgButsMarques_Away'] = ext_away_matches['Buts exterieur'].mean()\n",
    "            matchs.at[i, 'ExterieurAvgButsEncaisses_Away'] = ext_away_matches['Buts domicile'].mean()\n",
    "    \n",
    "    # on peut maintenant calculer plusieurs différents différentiels qui compare les différentes colonnes créées plus tôt \n",
    "    # dans le cas des différentiels, une valeur positive suggère un avantage pour l'équipe à domcile (Arsenal dans l'exemple) et une valeur négative un avantage pour l'équipe à l'extérieur (Aston Villa dans l'exemple)\n",
    "    # on crée une nouvelle colonne à partir des colonnes de forme créées précédement récoltant la différence entre les points de forme à domicile et à l'extérieur\n",
    "    # dans l'exemple, DiffForme aurait une valeur de 2 (Forme Arsenal (3) - Forme Aston Villa (1))\n",
    "    matchs['DiffForme'] = matchs['DomicileForme'] - matchs['ExterieurForme']\n",
    "\n",
    "    # on crée de nouvelles colonnes récoltant la différence des performance de buts entre l'équipe à domicile et celle à l'extérieur\n",
    "    # on fait cela en calculant le différentiel de buts, représentant la différence entre la moyenne de buts marqués et la moyenne de buts encaissés\n",
    "    # dans l'exemple, la colonne DiffButsDomicile représente donc la différence moyenne entre le nombre de buts marqués et encaissés par Arsenal pour la saison lorsqu'ils jouent à domicile\n",
    "    matchs['DiffButsDomicile'] = matchs['DomicileAvgButsMarques_Home'] - matchs['DomicileAvgButsEncaisses_Home']\n",
    "    # dans l'exemple, la colonne DiffButsExterieur représente ici la différence moyenne entre le nombre de buts marqués et encaissés par Aston Villa pour la saison lorsqu'ils jouent à l'extérieur\n",
    "    matchs['DiffButsExterieur'] = matchs['ExterieurAvgButsMarques_Away'] - matchs['ExterieurAvgButsEncaisses_Away']\n",
    "    # dans l'exemple, la colonne DiffButs représente ici la différence entre le différentiel de buts de Arsenal à domicile et Aston Villa à l'extérieur\n",
    "    matchs['DiffButs'] = matchs['DiffButsDomicile'] - matchs['DiffButsExterieur']\n",
    "    # dans l'exemple, la colonne DiffButsGlobal représente ici la différence entre les différentiels de buts d'Arsenal (à domicile et à l'extérieur) et d'Aston Villa (à domicile et à l'extérieur)\n",
    "    matchs['DiffButsGlobal'] = ((matchs['DomicileAvgButsMarques_Home'] - matchs['DomicileAvgButsEncaisses_Home'] +\n",
    "                          matchs['DomicileAvgButsMarques_Away'] - matchs['DomicileAvgButsEncaisses_Away']) - \n",
    "                          (matchs['ExterieurAvgButsMarques_Home'] - matchs['ExterieurAvgButsEncaisses_Home'] +\n",
    "                          matchs['ExterieurAvgButsMarques_Away'] - matchs['ExterieurAvgButsEncaisses_Away'])) \n",
    "    # on conclue la fonction en retournant le data frame matchs avec les colonnes de calcul des statistiques de buts et de formes maintenant ajoutées\n",
    "    return matchs"
   ]
  },
  {
   "cell_type": "markdown",
   "metadata": {},
   "source": [
    "On peut maintenant appliquer la fonction créée au *data frame* original et stocker le nouveau *data frame* dans la variable `matchs_stats`"
   ]
  },
  {
   "cell_type": "markdown",
   "metadata": {},
   "source": [
    "De nombreuses opérations doivent être faites lorsque la fonction est appliquée à l'entiereté du *data frame*, la cellule ci-dessous prendra donc un certain temps à exécuter, **au maximum $50$ secondes**."
   ]
  },
  {
   "cell_type": "code",
   "execution_count": 29,
   "metadata": {},
   "outputs": [],
   "source": [
    "matchs_stats = stats_equipe(matchs_drop)"
   ]
  },
  {
   "cell_type": "markdown",
   "metadata": {},
   "source": [
    "#### Représenter l'historique des face-à-face précédents"
   ]
  },
  {
   "cell_type": "markdown",
   "metadata": {},
   "source": [
    "L'historique des confrontations directes entres deux équipes s'agit également d'un indicateur clé en ce qui concerne leur performance future s'ils avaient à s'affronter à nouveau.\n",
    "\n",
    "On créera donc une fonction `faf_equipes` (face-à-face) qui canalyse l'historique des confrontations directes entre deux équipes pour créer des caractéristiques utiles à la prédiction"
   ]
  },
  {
   "cell_type": "code",
   "execution_count": 30,
   "metadata": {},
   "outputs": [],
   "source": [
    "def faf_equipes(matchs):\n",
    "    matchs = matchs.sort_values('Date')                  # on trie les données par date et on initialise quatres colonnes ou seront stockés les victoires en face-à-face\n",
    "    matchs['FAF_VictoiresDomicile_Dom'] = 0              # victoires de l'équipe à domicile quand elle jouait à domicile\n",
    "    matchs['FAF_VictoiresDomicile_Ext'] = 0              # victoires de l'équipe à domicile quand elle jouait à l'extérieur\n",
    "    matchs['FAF_VictoiresExterieur_Dom'] = 0             # victoires de l'équipe à l'extérieur quand elle jouait à domicile\n",
    "    matchs['FAF_VictoiresExterieur_Ext'] = 0             # victoires de l'équipe à l'extérieur quand elle jouait à l'extérieur\n",
    "    matchs['FAF_Nuls_Dom'] = 0                           # matchs nuls quand l'équipe domicile est à domicile \n",
    "    matchs['FAF_Nuls_Ext'] = 0                           # matchs nuls quand l'équipe extérieure est à domicile\n",
    "\n",
    "    for i in range(len(matchs)):                         # on parcourt chaque match du data frame\n",
    "        # en reprenant l'exemple mentionné précédemment, supposons que le match actuel oppose Arsenal (code 0) et Aston Villa (code 1) et a eu lieu le 1er décembre 2024:\n",
    "        match_actuel = matchs.iloc[i]                    # on stocke les information du match actuel dans la variable match_actuel, incluant les équipes qui jouent et la date du match\n",
    "        equipe_domicile = match_actuel['DomicileCode']   # dans l'exemple, ici sera stocké 0 (code Arsenal) \n",
    "        equipe_exterieur = match_actuel['ExterieurCode'] # dans l'exemple, ici sera stocké 1 (code Aston Villa) \n",
    "        date_match = match_actuel['Date']                # dans l'exemple, ici sera stocké la date du 1er décembre 2024\n",
    "\n",
    "        # on cherche à travers tous les matchs précédent la date du match actuel pour relever tous les matchs ou les deux équipes ont joué l'une contre l'autre\n",
    "        # on débute par filtrer les matchs précédents à celui évalué entre les deux équipes\n",
    "        # dans l'exemple, on cherche donc tous les matchs ayant eu lieu avant le 1er décembre 2024\n",
    "        matchs_prec = matchs[matchs['Date'] < date_match]\n",
    "        \n",
    "        # cas 1: équipe domicile actuelle jouait à domicile, équipe extérieure actuelle jouait à l'extérieur\n",
    "        # dans l'exemple, on cherche donc tous les matchs ayant eu lieu avant le 1er décembre 2024 où Arsenal a joué à domicile et Aston Villa a joué à l'extérieur en même temps\n",
    "        cas1 = matchs_prec[(matchs_prec['DomicileCode'] == equipe_domicile) & (matchs_prec['ExterieurCode'] == equipe_exterieur)]\n",
    "        \n",
    "        # cas 2: équipe domicile actuelle jouait à l'extérieur, équipe extérieure actuelle jouait à domicile\n",
    "        # dans l'exemple, on cherche donc tous les matchs ayant eu lieu avant le 1er décembre 2024 où Aston Villa a joué à domicile et Arsenal a joué à l'extérieur en même temps\n",
    "        cas2 = matchs_prec[(matchs_prec['DomicileCode'] == equipe_exterieur) & (matchs_prec['ExterieurCode'] == equipe_domicile)]\n",
    "\n",
    "        # calcul du nombre de victoires lors des face-à-face\n",
    "        # dans l'exemple on compte ici le nombre de victoires de chacune des équipes à domcile et à l'extérieur lors des affrontements d'Arsenal et d'Aston Villa ayant eu lieu avant le 1er décembre 2024\n",
    "        victoires_domicile_a_dom = sum(cas1['Cible'] == 1)  # dans l'exemple, Arsenal a gagné à domicile\n",
    "        victoires_exterieur_a_ext = sum(cas1['Cible'] == 0) # dans l'exemple, Aston Villa a gagné à l'extérieur\n",
    "        nul_dom_a_dom = sum(cas1['Cible'] == 2)             # dans l'exemple, le match est nul quand Arsenal jouait à domicile\n",
    "        \n",
    "        victoires_exterieur_a_dom = sum(cas2['Cible'] == 1) # dans l'exemple, Aston Villa a gagné à domicile\n",
    "        victoires_domicile_a_ext = sum(cas2['Cible'] == 0)  # dans l'exemple, Arsenal a gagné à l'extérieur\n",
    "        nul_dom_a_ext = sum(cas1['Cible'] == 2)             # dans l'exemple, le match est nul quand Arsenal jouait à l'extérieur\n",
    "\n",
    "        # on met à jour les colonnes créées plus tôt avec les statistiques de chaque match\n",
    "        matchs.at[i, 'FAF_VictoiresDomicile_Dom'] = victoires_domicile_a_dom        # dans l'exemple, on stocke ici le nombre de fois qu'Arsenal a gagné à domicile quand l'équipe a joué contre Aston Villa\n",
    "        matchs.at[i, 'FAF_VictoiresDomicile_Ext'] = victoires_domicile_a_ext        # dans l'exemple, on stocke ici le nombre de fois qu'Arsenal a gagné à l'extérieur quand l'équipe a joué contre Aston Villa\n",
    "        matchs.at[i, 'FAF_VictoiresExterieur_Dom'] = victoires_exterieur_a_dom      # dans l'exemple, on stocke ici le nombre de fois qu'Aston Villa a gagné à domicile quand l'équipe a joué contre Arsenal\n",
    "        matchs.at[i, 'FAF_VictoiresExterieur_Ext'] = victoires_exterieur_a_ext      # dans l'exemple, on stocke ici le nombre de fois qu'Aston Villa a gagné à l'extérieur quand l'équipe a joué contre Arsenal\n",
    "        matchs.at[i, 'FAF_Nul_Domicile_Dom'] = nul_dom_a_dom                        # dans l'exemple, on stocke ici le nombre de fois qu'Arsenal à fait match nul à domicile\n",
    "        matchs.at[i, 'FAF_Nul_Domicile_Ext'] = nul_dom_a_ext                        # dans l'exemple, on stocke ici le nombre de fois qu'Arsenal à fait match nul à l'extérieur\n",
    "        \n",
    "        # on peut créer de nouvelles colonne à partir des colonnes de forme créées précédement récoltant la différence entre les victoires lors des affrontements face-à-face précédents\n",
    "        # dans le cas de ces différentiels, une valeur positive suggère un avantage pour l'équipe à domcile (Arsenal dans l'exemple) et une valeur négative un avantage pour l'équipe à l'extérieur (Aston Villa dans l'exemple)\n",
    "        # dans l'exemple, la colonne FAF_Diff représente la différence entre le nombre de victoires d'Arsenal à domicile et le nombre de victoires d'Aston Villa à l'extérieur pour tous les matchs où les deux équipes se sont affrontées survenus avant le 1er décembre 2024\n",
    "        matchs['FAF_Diff'] = matchs['FAF_VictoiresDomicile_Dom'] - matchs['FAF_VictoiresExterieur_Ext']\n",
    "        # dans l'exemple, la colonne FAF_DIffGlobal représente le différentiel global entre tous les affrontement d'Arsenal et d'Aston Villa\n",
    "        matchs['FAF_DiffGlobal'] = (matchs['FAF_VictoiresDomicile_Dom'] - matchs['FAF_VictoiresExterieur_Ext']) + (matchs['FAF_VictoiresDomicile_Ext'] - matchs['FAF_VictoiresExterieur_Dom'])\n",
    "        # dans l'exemple la colonne FAF_NulDiff représente le différentiel entre le nombre de matchs nuls à domicile et à l'extérieur (l'inverse pour l'équipe à l'extérieur)\n",
    "        matchs['FAF_DiffNul'] = matchs['FAF_Nul_Domicile_Dom'] - matchs['FAF_Nul_Domicile_Ext']\n",
    "    # on conclue la fonction en retournant le data frame matchs avec les colonnes de de face-à-face maintenant ajoutées\n",
    "    return matchs"
   ]
  },
  {
   "cell_type": "markdown",
   "metadata": {},
   "source": [
    "Encore une fois, à cause du nombre d'opérations nécessaires, la cellule ci-dessous prendra un certain temps à exécuter, **au maximum $30$ secondes**."
   ]
  },
  {
   "cell_type": "code",
   "execution_count": 31,
   "metadata": {},
   "outputs": [],
   "source": [
    "matchs_features = faf_equipes(matchs_stats)"
   ]
  },
  {
   "cell_type": "markdown",
   "metadata": {},
   "source": [
    "En analysant les données récoltées par les fonctions, on s'apperçoit que pour les $200$ premiers matchs, les données de forme des équipes et de face-à-face ont souvent des valeurs de $0$ car les équipes n'ont pas encore toutes jouées leur premier match et n'ont pas encore fait face a chacun des adversaires de la ligue\n",
    "\n",
    "Afin de ne pas fausser le modèle, nous allons exclure ces premiers matchs du jeu de données utilisé pour la prédiction. On utilise la méthode `.reset_index` pour réindexer le *data frame* en indiquant avec `drop=True` de ne pas conserver les anciens indices"
   ]
  },
  {
   "cell_type": "code",
   "execution_count": 32,
   "metadata": {},
   "outputs": [],
   "source": [
    "matchs_features = matchs_features.sort_values('Date').iloc[200:].reset_index(drop=True)"
   ]
  },
  {
   "cell_type": "markdown",
   "metadata": {},
   "source": [
    "Les variables et le jeu de données que nous allons utiliser pour la prédiction sont maintenants prêtes a être utilisées comme intrants au modèle"
   ]
  },
  {
   "cell_type": "markdown",
   "metadata": {},
   "source": [
    "#### Apprentissages sur le feature engineering\n",
    "\n",
    "Le feature engineering est une étape clé dans tout projet de d'apprentissage automatique et nous avons pu beaucoup apprendre en réalisant cette dernière section.\n",
    "\n",
    "En ce qui concerne le nettoyage de données, principalement:\n",
    "- Corriger les erreurs de format de dates qui étaient parfois inversées ou mal structurées\n",
    "- Transformer les résultats catégoriels en valeurs numériques pour faciliter l'apprentissage\n",
    "\n",
    "Pa rapport à la création de nouvelles variables pour représenter les équipes:\n",
    "- La création de variables temporelles comme \"SemaineSaison\" pour capturer les tendances saisonnières\n",
    "- Le calcul de la \"forme\" des équipes basée sur leurs 5 derniers matchs\n",
    "- La création de différentiels de buts qui synthétisent les performances offensives et défensives\n",
    "- L'exploitation des historiques face-à-face entre équipes\n",
    "\n",
    "Un apprentissage particulièrement important a été la gestion des codes d'équipes catégoriels. En transformant les noms d'équipes en codes numériques grâce à `astype('category').cat.codes`, ce qui a permis au modèle d'utiliser cette information."
   ]
  },
  {
   "cell_type": "markdown",
   "metadata": {},
   "source": [
    "## Créer le modèle prédictif"
   ]
  },
  {
   "cell_type": "markdown",
   "metadata": {},
   "source": [
    "On arrive maintenant à la seconde étape qui constitue à la création d'un modèle visant à prédire les résultats des matchs futus maintenant que les variables explicatives ont été créées"
   ]
  },
  {
   "cell_type": "markdown",
   "metadata": {},
   "source": [
    "On importe tout d'abord la librairie `xgboost` pour utiliser son algorithme prédictif et pour analyser les résultats obtenus. Nous allons utiliser l'algorithme de classification du *XGBoost* dans le cadre de ce projet pour son efficacité auprès de données non-linéaires et son utilisation fréquente en analytique sportive"
   ]
  },
  {
   "cell_type": "code",
   "execution_count": 33,
   "metadata": {},
   "outputs": [],
   "source": [
    "import xgboost as xgb"
   ]
  },
  {
   "cell_type": "markdown",
   "metadata": {},
   "source": [
    "### Définir les groupes d'entraînement et de test"
   ]
  },
  {
   "cell_type": "markdown",
   "metadata": {},
   "source": [
    "Dans l'entraînement de n'importe quel modèle d'apprentissage automatique, il est **essentiel de séparer les données** pour éviter le *surapprentissage* et évaluer correctement la performance du modèle. Pour notre projet, nous adoptons une **division en trois ensembles** distincts: *entraînement, validation et test*. On sépare les données  selon un $70/15/15$ split dans le cas présent. L'ensemble d'entraînement ($70$%) sert à l'apprentissage initial du modèle, l'ensemble de validation permet d'optimiser les hyperparamètres du modèle ($15$%), l'ensemble de test ($15$%) reste quant a lui totalement isolé jusqu'à l'évaluation finale\n",
    "\n",
    "Pour ce jeu de données temporelles, il est crucial de **maintenir l'ordre chronologique lors de la séparation**. Le raisonnement derrière ce choix est que notre modèle doit prédire des matchs futurs. Cette approche à trois volets nous permet de simuler plus fidèlement les conditions réelles d'utilisation du modèle:\n",
    "\n",
    "1. Nous *entraînons* sur les données les plus *anciennes*\n",
    "2. Nous *ajustons* sur des données *intermédiaires*\n",
    "3. Nous *testons* sur les données les plus *récentes*\n",
    "\n",
    "Cette méthodologie assure que notre évaluation finale reflète précisément la capacité du modèle à **prédire des résultats pour des matchs n'ayant pas encore eu lieu**, ce qui est **l'objectif principal de notre projet prédictif**."
   ]
  },
  {
   "cell_type": "code",
   "execution_count": 34,
   "metadata": {},
   "outputs": [
    {
     "name": "stdout",
     "output_type": "stream",
     "text": [
      "Période d'entraînement: 2000-12-30 00:00:00 à 2018-11-24 00:00:00\n",
      "Période de validation: 2018-11-24 00:00:00 à 2022-05-08 00:00:00\n",
      "Période de test: 2022-05-08 00:00:00 à 2025-03-16 00:00:00\n"
     ]
    }
   ],
   "source": [
    "train_split = int(len(matchs_features) * 0.7)                      # on définit un premier point de coupure (dans ce cas-ci 70% d'entraînement pour 15% de validation et 15% de test), les données ont déjà été ordonnées selon la date lors de l'opération précédente, donc pas besoin de le faire à nouveau ici\n",
    "val_split = int(len(matchs_features) * 0.85)                       # on définit le deuxième point de coupure\n",
    "train = matchs_features.iloc[:train_split]                         # on sépare en données d'entraînement\n",
    "val = matchs_features.iloc[train_split:val_split]                  # en données de validation\n",
    "test = matchs_features.iloc[val_split:]                            # et en données de test\n",
    "\n",
    "print(f\"Période d'entraînement: {train['Date'].min()} à {train['Date'].max()}\")         # on imprime les dates d'entraînement, de validation et de test à titre de référence\n",
    "print(f\"Période de validation: {val['Date'].min()} à {val['Date'].max()}\")\n",
    "print(f\"Période de test: {test['Date'].min()} à {test['Date'].max()}\")"
   ]
  },
  {
   "cell_type": "markdown",
   "metadata": {},
   "source": [
    "On définit maintenant les variables explicatives et la variable cible allant être utilisées par le modèle parmi celles créées plus tôt. En testant différentes combinaisons de variables explicatives, la suivante permet d'obtenir la meilleure performance du modèle"
   ]
  },
  {
   "cell_type": "code",
   "execution_count": 35,
   "metadata": {},
   "outputs": [],
   "source": [
    "# variables explicatives provenant du feature engineering qui serviront à prédire la variable cible\n",
    "features = [\n",
    "    'DomicileCode', 'ExterieurCode', 'DomicileForme', 'ExterieurForme', \n",
    "    'DiffForme', 'FAF_VictoiresDomicile_Dom', 'FAF_Diff', 'FAF_DiffGlobal', \n",
    "    'FAF_VictoiresExterieur_Dom', 'FAF_VictoiresDomicile_Ext', \n",
    "    'FAF_VictoiresExterieur_Ext', 'SemaineSaison', 'Mois', 'AnneeSaison',\n",
    "    'DomicileAvgButsMarques_Home', 'DomicileAvgButsEncaisses_Home', \n",
    "    'DomicileAvgButsMarques_Away', 'DomicileAvgButsEncaisses_Away', \n",
    "    'ExterieurAvgButsMarques_Home', 'ExterieurAvgButsEncaisses_Home', \n",
    "    'ExterieurAvgButsMarques_Away', 'ExterieurAvgButsEncaisses_Away', \n",
    "    'DiffButsDomicile', 'DiffButsExterieur', 'DiffButs', 'DiffButsGlobal',\n",
    "    'FAF_Nul_Domicile_Dom', 'FAF_Nul_Domicile_Ext', 'FAF_DiffNul' \n",
    "]\n",
    "\n",
    "# variable cible représentant les résultats de chacun des matchs évalués (0: Victoire extérieur, 1: Victoire domicile, 2:Nul)\n",
    "target = ['Cible']"
   ]
  },
  {
   "cell_type": "markdown",
   "metadata": {},
   "source": [
    "On peut maintenant préparer les données d'entraînement et de test"
   ]
  },
  {
   "cell_type": "code",
   "execution_count": 36,
   "metadata": {},
   "outputs": [],
   "source": [
    "X_train = train[features]\n",
    "y_train = train[target]\n",
    "X_val = val[features]\n",
    "y_val = val[target]\n",
    "X_test = test[features]\n",
    "y_test = test[target]"
   ]
  },
  {
   "cell_type": "markdown",
   "metadata": {},
   "source": [
    "On peut valider la proportion de la variable cible au sein des ensembles d'entraînement et de test en utilisant la méthode `.value_counts` tout en comptant le nombre de matchs utilisés pour l'entraînement et le test en créant deux *data frames* respectifs"
   ]
  },
  {
   "cell_type": "code",
   "execution_count": 37,
   "metadata": {},
   "outputs": [
    {
     "name": "stdout",
     "output_type": "stream",
     "text": [
      "Distribution des classes:\n",
      "\n",
      "Ensemble d'entraînement:\n",
      "       Nombre de matchs  Pourcentage\n",
      "Cible                               \n",
      "0                  1795    28.125979\n",
      "1                  2954    46.286431\n",
      "2                  1633    25.587590\n",
      "\n",
      "Total : 6382 matchs\n",
      "\n",
      "Ensemble de validation:\n",
      "       Nombre de matchs  Pourcentage\n",
      "Cible                               \n",
      "0                   473    34.576023\n",
      "1                   595    43.494152\n",
      "2                   300    21.929825\n",
      "\n",
      "Total : 1368 matchs\n",
      "\n",
      "Ensemble de test:\n",
      "       Nombre de matchs  Pourcentage\n",
      "Cible                               \n",
      "0                   448    32.748538\n",
      "1                   600    43.859649\n",
      "2                   320    23.391813\n",
      "\n",
      "Total : 1368 matchs\n"
     ]
    }
   ],
   "source": [
    "print(\"Distribution des classes:\")\n",
    "\n",
    "# distribution de l'ensemble d'entraînement\n",
    "print(\"\\nEnsemble d'entraînement:\")\n",
    "train_dist = pd.DataFrame({\n",
    "    'Nombre de matchs': y_train.value_counts().sort_index(),\n",
    "    'Pourcentage': y_train.value_counts(normalize=True).sort_index() * 100\n",
    "})\n",
    "print(train_dist)\n",
    "print(f'\\nTotal : {len(y_train)} matchs')\n",
    "\n",
    "# distribution de l'ensemble de validation\n",
    "print(\"\\nEnsemble de validation:\")\n",
    "test_dist = pd.DataFrame({\n",
    "    'Nombre de matchs': y_val.value_counts().sort_index(),\n",
    "    'Pourcentage': y_val.value_counts(normalize=True).sort_index() * 100\n",
    "})\n",
    "print(test_dist)\n",
    "print(f'\\nTotal : {len(y_test)} matchs')\n",
    "\n",
    "# distribution de l'ensemble de test\n",
    "print(\"\\nEnsemble de test:\")\n",
    "test_dist = pd.DataFrame({\n",
    "    'Nombre de matchs': y_test.value_counts().sort_index(),\n",
    "    'Pourcentage': y_test.value_counts(normalize=True).sort_index() * 100\n",
    "})\n",
    "print(test_dist)\n",
    "print(f'\\nTotal : {len(y_test)} matchs')"
   ]
  },
  {
   "cell_type": "markdown",
   "metadata": {},
   "source": [
    "On peut ici remarquer une certaine imbalance des classes, une proportion de $28$% des données d'entraînement se retrouvant au sein de la classe 0, $46$% se retrouvent dans la classe 1 et $25$% dans la classe 2. Il est ainsi important d'en tenir compte dans le cadre de la modélisation.\n",
    "\n",
    "On voit également une certaine imbalance entre la composition des les données d'entraînement et de test, nottament avec la classe 0 qui passe de $28$% à $32$%, il sera donc également important d'en tenir compte lors de l'entraînement du modèle\n",
    "\n",
    "Pour ce faire on calcule des poids relatifs à la proportion de chacune des valeurs au sein de l'ensemble d'entraînement. On pourra par la suite spécifier ces poids lors de l'entraînement du modèle avec l'aide de l'argument `.sample_weight`. Pour arriver à calculer les poids de la variable cible, on utilise la fonction `compute_sample_weight` provenant de *Scikit-learn*"
   ]
  },
  {
   "cell_type": "code",
   "execution_count": 38,
   "metadata": {},
   "outputs": [],
   "source": [
    "from sklearn.utils.class_weight import compute_sample_weight"
   ]
  },
  {
   "cell_type": "code",
   "execution_count": 39,
   "metadata": {},
   "outputs": [],
   "source": [
    "sample_weights = compute_sample_weight(class_weight='balanced', y=y_train['Cible'])"
   ]
  },
  {
   "cell_type": "markdown",
   "metadata": {},
   "source": [
    "### Entraîner et optimiser les hyperparamètres du modèle XGBoost"
   ]
  },
  {
   "cell_type": "markdown",
   "metadata": {},
   "source": [
    "Dans le but d'optimiser au mieux les nombreux paramètres du modèle *XGBoost*, nous allons utiliser la librairie *Optuna*. Contrairement à une approche par recherche aléatoire, Optuna emploie l'optimisation bayésienne pour explorer intelligemment l'espace des hyperparamètres et converger plus efficacement vers une solution optimale.\n",
    "\n",
    "Pour utiliser cette méthode, on importe d'abord la librairie `optuna` et les outils nécessaires pour la validation croisée."
   ]
  },
  {
   "cell_type": "code",
   "execution_count": null,
   "metadata": {},
   "outputs": [],
   "source": [
    "import optuna"
   ]
  },
  {
   "cell_type": "markdown",
   "metadata": {},
   "source": [
    "Optuna nous permet d'explorer intelligemment l'espace des hyperparamètres grâce à son approche bayésienne. Les paramètres initiaux ci-bas ont été trouvés à l'aide du modèle d'IA *Claude 3.7 Sonnet*, en lui précisant de l'information sur le jeu de données, la tâche de classification à résoudre et la composition des classes dans les données d'entraînement comme il a été trouvé plus tôt\n",
    "\n",
    "#### Ne pas exécuter la cellule ci-dessous, son exécution est de longue durée"
   ]
  },
  {
   "cell_type": "code",
   "execution_count": null,
   "metadata": {},
   "outputs": [],
   "source": [
    "from sklearn.metrics import f1_score\n",
    "\n",
    "# Define the objective function for Optuna\n",
    "def objective(trial):\n",
    "    # Define the hyperparameters to optimize\n",
    "    params = {\n",
    "        'max_depth': trial.suggest_int('max_depth', 6, 10),\n",
    "        'min_child_weight': trial.suggest_int('min_child_weight', 1, 5),\n",
    "        'gamma': trial.suggest_float('gamma', 0.0, 0.2),\n",
    "        'subsample': trial.suggest_float('subsample', 0.7, 0.9),\n",
    "        'colsample_bytree': trial.suggest_float('colsample_bytree', 0.7, 0.9),\n",
    "        'learning_rate': trial.suggest_float('learning_rate', 0.01, 0.1, log=True),\n",
    "        'reg_alpha': trial.suggest_float('reg_alpha', 0.0, 0.1),\n",
    "        'reg_lambda': trial.suggest_float('reg_lambda', 0.1, 10.0, log=True),\n",
    "        'n_estimators': trial.suggest_categorical('n_estimators', [500, 1000])\n",
    "    }\n",
    "    \n",
    "    # Create and train the model on training data\n",
    "    model = xgb.XGBClassifier(\n",
    "        objective='multi:softprob',\n",
    "        num_class=3,\n",
    "        verbosity=0,\n",
    "        seed=42,\n",
    "        **params\n",
    "    )\n",
    "    \n",
    "    # Train on training data\n",
    "    model.fit(X_train, y_train)\n",
    "    \n",
    "    # Evaluate on validation data\n",
    "    y_val_pred = model.predict(X_val)\n",
    "    f1 = f1_score(y_val, y_val_pred, average='macro')\n",
    "    \n",
    "    return f1\n",
    "\n",
    "# Create and run the Optuna study\n",
    "print(\"Starting hyperparameter optimization...\")\n",
    "study = optuna.create_study(direction='maximize')\n",
    "study.optimize(objective, n_trials=50, show_progress_bar=True)\n",
    "\n",
    "# Print the best parameters and score\n",
    "print(f\"Best parameters: {study.best_params}\")\n",
    "print(f\"Best validation f1_macro score: {study.best_value:.4f}\")\n",
    "\n",
    "# Train the final model with the best parameters\n",
    "best_params = study.best_params\n",
    "best_xgb = xgb.XGBClassifier(\n",
    "    objective='multi:softprob',\n",
    "    num_class=3,\n",
    "    verbosity=1,\n",
    "    seed=42,\n",
    "    **best_params\n",
    ")\n",
    "\n",
    "best_xgb.fit(X_train, y_train)"
   ]
  },
  {
   "cell_type": "markdown",
   "metadata": {},
   "source": [
    "Pour les bienfaits d'évaluation, nous avons stocké les paramètres résultant de l'entraînement et de l'optimisation *Optuna* effectué plus haut dans la cellule ci-dessous. \n",
    "\n",
    "Il s'agit des paramètres qui seront utilisées pour la prédiction des résultats par la suite"
   ]
  },
  {
   "cell_type": "code",
   "execution_count": 40,
   "metadata": {},
   "outputs": [],
   "source": [
    "best_params = {'max_depth': 6,\n",
    " 'min_child_weight': 5,\n",
    " 'gamma': 0.11665421151978751,\n",
    " 'subsample': 0.8402610490795083,\n",
    " 'colsample_bytree': 0.7118371435698797,\n",
    " 'learning_rate': 0.012017273742289156,\n",
    " 'reg_alpha': 0.08691917786637657,\n",
    " 'reg_lambda': 0.19026893486697266,\n",
    " 'n_estimators': 500}"
   ]
  },
  {
   "cell_type": "markdown",
   "metadata": {},
   "source": [
    "On entraîne le modèle *XGBoost* en précisan la tâche à exécuter ainsi que les paramètres spécifiés dans la cellule précédente avec l'aide de la méthode `.fit` en stockant le modèle entrainé dans la variable `best_xgb`"
   ]
  },
  {
   "cell_type": "code",
   "execution_count": 41,
   "metadata": {},
   "outputs": [
    {
     "data": {
      "text/html": [
       "<style>#sk-container-id-1 {\n",
       "  /* Definition of color scheme common for light and dark mode */\n",
       "  --sklearn-color-text: black;\n",
       "  --sklearn-color-line: gray;\n",
       "  /* Definition of color scheme for unfitted estimators */\n",
       "  --sklearn-color-unfitted-level-0: #fff5e6;\n",
       "  --sklearn-color-unfitted-level-1: #f6e4d2;\n",
       "  --sklearn-color-unfitted-level-2: #ffe0b3;\n",
       "  --sklearn-color-unfitted-level-3: chocolate;\n",
       "  /* Definition of color scheme for fitted estimators */\n",
       "  --sklearn-color-fitted-level-0: #f0f8ff;\n",
       "  --sklearn-color-fitted-level-1: #d4ebff;\n",
       "  --sklearn-color-fitted-level-2: #b3dbfd;\n",
       "  --sklearn-color-fitted-level-3: cornflowerblue;\n",
       "\n",
       "  /* Specific color for light theme */\n",
       "  --sklearn-color-text-on-default-background: var(--sg-text-color, var(--theme-code-foreground, var(--jp-content-font-color1, black)));\n",
       "  --sklearn-color-background: var(--sg-background-color, var(--theme-background, var(--jp-layout-color0, white)));\n",
       "  --sklearn-color-border-box: var(--sg-text-color, var(--theme-code-foreground, var(--jp-content-font-color1, black)));\n",
       "  --sklearn-color-icon: #696969;\n",
       "\n",
       "  @media (prefers-color-scheme: dark) {\n",
       "    /* Redefinition of color scheme for dark theme */\n",
       "    --sklearn-color-text-on-default-background: var(--sg-text-color, var(--theme-code-foreground, var(--jp-content-font-color1, white)));\n",
       "    --sklearn-color-background: var(--sg-background-color, var(--theme-background, var(--jp-layout-color0, #111)));\n",
       "    --sklearn-color-border-box: var(--sg-text-color, var(--theme-code-foreground, var(--jp-content-font-color1, white)));\n",
       "    --sklearn-color-icon: #878787;\n",
       "  }\n",
       "}\n",
       "\n",
       "#sk-container-id-1 {\n",
       "  color: var(--sklearn-color-text);\n",
       "}\n",
       "\n",
       "#sk-container-id-1 pre {\n",
       "  padding: 0;\n",
       "}\n",
       "\n",
       "#sk-container-id-1 input.sk-hidden--visually {\n",
       "  border: 0;\n",
       "  clip: rect(1px 1px 1px 1px);\n",
       "  clip: rect(1px, 1px, 1px, 1px);\n",
       "  height: 1px;\n",
       "  margin: -1px;\n",
       "  overflow: hidden;\n",
       "  padding: 0;\n",
       "  position: absolute;\n",
       "  width: 1px;\n",
       "}\n",
       "\n",
       "#sk-container-id-1 div.sk-dashed-wrapped {\n",
       "  border: 1px dashed var(--sklearn-color-line);\n",
       "  margin: 0 0.4em 0.5em 0.4em;\n",
       "  box-sizing: border-box;\n",
       "  padding-bottom: 0.4em;\n",
       "  background-color: var(--sklearn-color-background);\n",
       "}\n",
       "\n",
       "#sk-container-id-1 div.sk-container {\n",
       "  /* jupyter's `normalize.less` sets `[hidden] { display: none; }`\n",
       "     but bootstrap.min.css set `[hidden] { display: none !important; }`\n",
       "     so we also need the `!important` here to be able to override the\n",
       "     default hidden behavior on the sphinx rendered scikit-learn.org.\n",
       "     See: https://github.com/scikit-learn/scikit-learn/issues/21755 */\n",
       "  display: inline-block !important;\n",
       "  position: relative;\n",
       "}\n",
       "\n",
       "#sk-container-id-1 div.sk-text-repr-fallback {\n",
       "  display: none;\n",
       "}\n",
       "\n",
       "div.sk-parallel-item,\n",
       "div.sk-serial,\n",
       "div.sk-item {\n",
       "  /* draw centered vertical line to link estimators */\n",
       "  background-image: linear-gradient(var(--sklearn-color-text-on-default-background), var(--sklearn-color-text-on-default-background));\n",
       "  background-size: 2px 100%;\n",
       "  background-repeat: no-repeat;\n",
       "  background-position: center center;\n",
       "}\n",
       "\n",
       "/* Parallel-specific style estimator block */\n",
       "\n",
       "#sk-container-id-1 div.sk-parallel-item::after {\n",
       "  content: \"\";\n",
       "  width: 100%;\n",
       "  border-bottom: 2px solid var(--sklearn-color-text-on-default-background);\n",
       "  flex-grow: 1;\n",
       "}\n",
       "\n",
       "#sk-container-id-1 div.sk-parallel {\n",
       "  display: flex;\n",
       "  align-items: stretch;\n",
       "  justify-content: center;\n",
       "  background-color: var(--sklearn-color-background);\n",
       "  position: relative;\n",
       "}\n",
       "\n",
       "#sk-container-id-1 div.sk-parallel-item {\n",
       "  display: flex;\n",
       "  flex-direction: column;\n",
       "}\n",
       "\n",
       "#sk-container-id-1 div.sk-parallel-item:first-child::after {\n",
       "  align-self: flex-end;\n",
       "  width: 50%;\n",
       "}\n",
       "\n",
       "#sk-container-id-1 div.sk-parallel-item:last-child::after {\n",
       "  align-self: flex-start;\n",
       "  width: 50%;\n",
       "}\n",
       "\n",
       "#sk-container-id-1 div.sk-parallel-item:only-child::after {\n",
       "  width: 0;\n",
       "}\n",
       "\n",
       "/* Serial-specific style estimator block */\n",
       "\n",
       "#sk-container-id-1 div.sk-serial {\n",
       "  display: flex;\n",
       "  flex-direction: column;\n",
       "  align-items: center;\n",
       "  background-color: var(--sklearn-color-background);\n",
       "  padding-right: 1em;\n",
       "  padding-left: 1em;\n",
       "}\n",
       "\n",
       "\n",
       "/* Toggleable style: style used for estimator/Pipeline/ColumnTransformer box that is\n",
       "clickable and can be expanded/collapsed.\n",
       "- Pipeline and ColumnTransformer use this feature and define the default style\n",
       "- Estimators will overwrite some part of the style using the `sk-estimator` class\n",
       "*/\n",
       "\n",
       "/* Pipeline and ColumnTransformer style (default) */\n",
       "\n",
       "#sk-container-id-1 div.sk-toggleable {\n",
       "  /* Default theme specific background. It is overwritten whether we have a\n",
       "  specific estimator or a Pipeline/ColumnTransformer */\n",
       "  background-color: var(--sklearn-color-background);\n",
       "}\n",
       "\n",
       "/* Toggleable label */\n",
       "#sk-container-id-1 label.sk-toggleable__label {\n",
       "  cursor: pointer;\n",
       "  display: block;\n",
       "  width: 100%;\n",
       "  margin-bottom: 0;\n",
       "  padding: 0.5em;\n",
       "  box-sizing: border-box;\n",
       "  text-align: center;\n",
       "}\n",
       "\n",
       "#sk-container-id-1 label.sk-toggleable__label-arrow:before {\n",
       "  /* Arrow on the left of the label */\n",
       "  content: \"▸\";\n",
       "  float: left;\n",
       "  margin-right: 0.25em;\n",
       "  color: var(--sklearn-color-icon);\n",
       "}\n",
       "\n",
       "#sk-container-id-1 label.sk-toggleable__label-arrow:hover:before {\n",
       "  color: var(--sklearn-color-text);\n",
       "}\n",
       "\n",
       "/* Toggleable content - dropdown */\n",
       "\n",
       "#sk-container-id-1 div.sk-toggleable__content {\n",
       "  max-height: 0;\n",
       "  max-width: 0;\n",
       "  overflow: hidden;\n",
       "  text-align: left;\n",
       "  /* unfitted */\n",
       "  background-color: var(--sklearn-color-unfitted-level-0);\n",
       "}\n",
       "\n",
       "#sk-container-id-1 div.sk-toggleable__content.fitted {\n",
       "  /* fitted */\n",
       "  background-color: var(--sklearn-color-fitted-level-0);\n",
       "}\n",
       "\n",
       "#sk-container-id-1 div.sk-toggleable__content pre {\n",
       "  margin: 0.2em;\n",
       "  border-radius: 0.25em;\n",
       "  color: var(--sklearn-color-text);\n",
       "  /* unfitted */\n",
       "  background-color: var(--sklearn-color-unfitted-level-0);\n",
       "}\n",
       "\n",
       "#sk-container-id-1 div.sk-toggleable__content.fitted pre {\n",
       "  /* unfitted */\n",
       "  background-color: var(--sklearn-color-fitted-level-0);\n",
       "}\n",
       "\n",
       "#sk-container-id-1 input.sk-toggleable__control:checked~div.sk-toggleable__content {\n",
       "  /* Expand drop-down */\n",
       "  max-height: 200px;\n",
       "  max-width: 100%;\n",
       "  overflow: auto;\n",
       "}\n",
       "\n",
       "#sk-container-id-1 input.sk-toggleable__control:checked~label.sk-toggleable__label-arrow:before {\n",
       "  content: \"▾\";\n",
       "}\n",
       "\n",
       "/* Pipeline/ColumnTransformer-specific style */\n",
       "\n",
       "#sk-container-id-1 div.sk-label input.sk-toggleable__control:checked~label.sk-toggleable__label {\n",
       "  color: var(--sklearn-color-text);\n",
       "  background-color: var(--sklearn-color-unfitted-level-2);\n",
       "}\n",
       "\n",
       "#sk-container-id-1 div.sk-label.fitted input.sk-toggleable__control:checked~label.sk-toggleable__label {\n",
       "  background-color: var(--sklearn-color-fitted-level-2);\n",
       "}\n",
       "\n",
       "/* Estimator-specific style */\n",
       "\n",
       "/* Colorize estimator box */\n",
       "#sk-container-id-1 div.sk-estimator input.sk-toggleable__control:checked~label.sk-toggleable__label {\n",
       "  /* unfitted */\n",
       "  background-color: var(--sklearn-color-unfitted-level-2);\n",
       "}\n",
       "\n",
       "#sk-container-id-1 div.sk-estimator.fitted input.sk-toggleable__control:checked~label.sk-toggleable__label {\n",
       "  /* fitted */\n",
       "  background-color: var(--sklearn-color-fitted-level-2);\n",
       "}\n",
       "\n",
       "#sk-container-id-1 div.sk-label label.sk-toggleable__label,\n",
       "#sk-container-id-1 div.sk-label label {\n",
       "  /* The background is the default theme color */\n",
       "  color: var(--sklearn-color-text-on-default-background);\n",
       "}\n",
       "\n",
       "/* On hover, darken the color of the background */\n",
       "#sk-container-id-1 div.sk-label:hover label.sk-toggleable__label {\n",
       "  color: var(--sklearn-color-text);\n",
       "  background-color: var(--sklearn-color-unfitted-level-2);\n",
       "}\n",
       "\n",
       "/* Label box, darken color on hover, fitted */\n",
       "#sk-container-id-1 div.sk-label.fitted:hover label.sk-toggleable__label.fitted {\n",
       "  color: var(--sklearn-color-text);\n",
       "  background-color: var(--sklearn-color-fitted-level-2);\n",
       "}\n",
       "\n",
       "/* Estimator label */\n",
       "\n",
       "#sk-container-id-1 div.sk-label label {\n",
       "  font-family: monospace;\n",
       "  font-weight: bold;\n",
       "  display: inline-block;\n",
       "  line-height: 1.2em;\n",
       "}\n",
       "\n",
       "#sk-container-id-1 div.sk-label-container {\n",
       "  text-align: center;\n",
       "}\n",
       "\n",
       "/* Estimator-specific */\n",
       "#sk-container-id-1 div.sk-estimator {\n",
       "  font-family: monospace;\n",
       "  border: 1px dotted var(--sklearn-color-border-box);\n",
       "  border-radius: 0.25em;\n",
       "  box-sizing: border-box;\n",
       "  margin-bottom: 0.5em;\n",
       "  /* unfitted */\n",
       "  background-color: var(--sklearn-color-unfitted-level-0);\n",
       "}\n",
       "\n",
       "#sk-container-id-1 div.sk-estimator.fitted {\n",
       "  /* fitted */\n",
       "  background-color: var(--sklearn-color-fitted-level-0);\n",
       "}\n",
       "\n",
       "/* on hover */\n",
       "#sk-container-id-1 div.sk-estimator:hover {\n",
       "  /* unfitted */\n",
       "  background-color: var(--sklearn-color-unfitted-level-2);\n",
       "}\n",
       "\n",
       "#sk-container-id-1 div.sk-estimator.fitted:hover {\n",
       "  /* fitted */\n",
       "  background-color: var(--sklearn-color-fitted-level-2);\n",
       "}\n",
       "\n",
       "/* Specification for estimator info (e.g. \"i\" and \"?\") */\n",
       "\n",
       "/* Common style for \"i\" and \"?\" */\n",
       "\n",
       ".sk-estimator-doc-link,\n",
       "a:link.sk-estimator-doc-link,\n",
       "a:visited.sk-estimator-doc-link {\n",
       "  float: right;\n",
       "  font-size: smaller;\n",
       "  line-height: 1em;\n",
       "  font-family: monospace;\n",
       "  background-color: var(--sklearn-color-background);\n",
       "  border-radius: 1em;\n",
       "  height: 1em;\n",
       "  width: 1em;\n",
       "  text-decoration: none !important;\n",
       "  margin-left: 1ex;\n",
       "  /* unfitted */\n",
       "  border: var(--sklearn-color-unfitted-level-1) 1pt solid;\n",
       "  color: var(--sklearn-color-unfitted-level-1);\n",
       "}\n",
       "\n",
       ".sk-estimator-doc-link.fitted,\n",
       "a:link.sk-estimator-doc-link.fitted,\n",
       "a:visited.sk-estimator-doc-link.fitted {\n",
       "  /* fitted */\n",
       "  border: var(--sklearn-color-fitted-level-1) 1pt solid;\n",
       "  color: var(--sklearn-color-fitted-level-1);\n",
       "}\n",
       "\n",
       "/* On hover */\n",
       "div.sk-estimator:hover .sk-estimator-doc-link:hover,\n",
       ".sk-estimator-doc-link:hover,\n",
       "div.sk-label-container:hover .sk-estimator-doc-link:hover,\n",
       ".sk-estimator-doc-link:hover {\n",
       "  /* unfitted */\n",
       "  background-color: var(--sklearn-color-unfitted-level-3);\n",
       "  color: var(--sklearn-color-background);\n",
       "  text-decoration: none;\n",
       "}\n",
       "\n",
       "div.sk-estimator.fitted:hover .sk-estimator-doc-link.fitted:hover,\n",
       ".sk-estimator-doc-link.fitted:hover,\n",
       "div.sk-label-container:hover .sk-estimator-doc-link.fitted:hover,\n",
       ".sk-estimator-doc-link.fitted:hover {\n",
       "  /* fitted */\n",
       "  background-color: var(--sklearn-color-fitted-level-3);\n",
       "  color: var(--sklearn-color-background);\n",
       "  text-decoration: none;\n",
       "}\n",
       "\n",
       "/* Span, style for the box shown on hovering the info icon */\n",
       ".sk-estimator-doc-link span {\n",
       "  display: none;\n",
       "  z-index: 9999;\n",
       "  position: relative;\n",
       "  font-weight: normal;\n",
       "  right: .2ex;\n",
       "  padding: .5ex;\n",
       "  margin: .5ex;\n",
       "  width: min-content;\n",
       "  min-width: 20ex;\n",
       "  max-width: 50ex;\n",
       "  color: var(--sklearn-color-text);\n",
       "  box-shadow: 2pt 2pt 4pt #999;\n",
       "  /* unfitted */\n",
       "  background: var(--sklearn-color-unfitted-level-0);\n",
       "  border: .5pt solid var(--sklearn-color-unfitted-level-3);\n",
       "}\n",
       "\n",
       ".sk-estimator-doc-link.fitted span {\n",
       "  /* fitted */\n",
       "  background: var(--sklearn-color-fitted-level-0);\n",
       "  border: var(--sklearn-color-fitted-level-3);\n",
       "}\n",
       "\n",
       ".sk-estimator-doc-link:hover span {\n",
       "  display: block;\n",
       "}\n",
       "\n",
       "/* \"?\"-specific style due to the `<a>` HTML tag */\n",
       "\n",
       "#sk-container-id-1 a.estimator_doc_link {\n",
       "  float: right;\n",
       "  font-size: 1rem;\n",
       "  line-height: 1em;\n",
       "  font-family: monospace;\n",
       "  background-color: var(--sklearn-color-background);\n",
       "  border-radius: 1rem;\n",
       "  height: 1rem;\n",
       "  width: 1rem;\n",
       "  text-decoration: none;\n",
       "  /* unfitted */\n",
       "  color: var(--sklearn-color-unfitted-level-1);\n",
       "  border: var(--sklearn-color-unfitted-level-1) 1pt solid;\n",
       "}\n",
       "\n",
       "#sk-container-id-1 a.estimator_doc_link.fitted {\n",
       "  /* fitted */\n",
       "  border: var(--sklearn-color-fitted-level-1) 1pt solid;\n",
       "  color: var(--sklearn-color-fitted-level-1);\n",
       "}\n",
       "\n",
       "/* On hover */\n",
       "#sk-container-id-1 a.estimator_doc_link:hover {\n",
       "  /* unfitted */\n",
       "  background-color: var(--sklearn-color-unfitted-level-3);\n",
       "  color: var(--sklearn-color-background);\n",
       "  text-decoration: none;\n",
       "}\n",
       "\n",
       "#sk-container-id-1 a.estimator_doc_link.fitted:hover {\n",
       "  /* fitted */\n",
       "  background-color: var(--sklearn-color-fitted-level-3);\n",
       "}\n",
       "</style><div id=\"sk-container-id-1\" class=\"sk-top-container\"><div class=\"sk-text-repr-fallback\"><pre>XGBClassifier(base_score=None, booster=None, callbacks=None,\n",
       "              colsample_bylevel=None, colsample_bynode=None,\n",
       "              colsample_bytree=0.7118371435698797, device=None,\n",
       "              early_stopping_rounds=None, enable_categorical=False,\n",
       "              eval_metric=None, feature_types=None, feature_weights=None,\n",
       "              gamma=0.11665421151978751, grow_policy=None, importance_type=None,\n",
       "              interaction_constraints=None, learning_rate=0.012017273742289156,\n",
       "              max_bin=None, max_cat_threshold=None, max_cat_to_onehot=None,\n",
       "              max_delta_step=None, max_depth=6, max_leaves=None,\n",
       "              min_child_weight=5, missing=nan, monotone_constraints=None,\n",
       "              multi_strategy=None, n_estimators=500, n_jobs=None,\n",
       "              num_parallel_tree=None, ...)</pre><b>In a Jupyter environment, please rerun this cell to show the HTML representation or trust the notebook. <br />On GitHub, the HTML representation is unable to render, please try loading this page with nbviewer.org.</b></div><div class=\"sk-container\" hidden><div class=\"sk-item\"><div class=\"sk-estimator fitted sk-toggleable\"><input class=\"sk-toggleable__control sk-hidden--visually\" id=\"sk-estimator-id-1\" type=\"checkbox\" checked><label for=\"sk-estimator-id-1\" class=\"sk-toggleable__label fitted sk-toggleable__label-arrow fitted\">&nbsp;&nbsp;XGBClassifier<a class=\"sk-estimator-doc-link fitted\" rel=\"noreferrer\" target=\"_blank\" href=\"https://xgboost.readthedocs.io/en/release_3.0.0/python/python_api.html#xgboost.XGBClassifier\">?<span>Documentation for XGBClassifier</span></a><span class=\"sk-estimator-doc-link fitted\">i<span>Fitted</span></span></label><div class=\"sk-toggleable__content fitted\"><pre>XGBClassifier(base_score=None, booster=None, callbacks=None,\n",
       "              colsample_bylevel=None, colsample_bynode=None,\n",
       "              colsample_bytree=0.7118371435698797, device=None,\n",
       "              early_stopping_rounds=None, enable_categorical=False,\n",
       "              eval_metric=None, feature_types=None, feature_weights=None,\n",
       "              gamma=0.11665421151978751, grow_policy=None, importance_type=None,\n",
       "              interaction_constraints=None, learning_rate=0.012017273742289156,\n",
       "              max_bin=None, max_cat_threshold=None, max_cat_to_onehot=None,\n",
       "              max_delta_step=None, max_depth=6, max_leaves=None,\n",
       "              min_child_weight=5, missing=nan, monotone_constraints=None,\n",
       "              multi_strategy=None, n_estimators=500, n_jobs=None,\n",
       "              num_parallel_tree=None, ...)</pre></div> </div></div></div></div>"
      ],
      "text/plain": [
       "XGBClassifier(base_score=None, booster=None, callbacks=None,\n",
       "              colsample_bylevel=None, colsample_bynode=None,\n",
       "              colsample_bytree=0.7118371435698797, device=None,\n",
       "              early_stopping_rounds=None, enable_categorical=False,\n",
       "              eval_metric=None, feature_types=None, feature_weights=None,\n",
       "              gamma=0.11665421151978751, grow_policy=None, importance_type=None,\n",
       "              interaction_constraints=None, learning_rate=0.012017273742289156,\n",
       "              max_bin=None, max_cat_threshold=None, max_cat_to_onehot=None,\n",
       "              max_delta_step=None, max_depth=6, max_leaves=None,\n",
       "              min_child_weight=5, missing=nan, monotone_constraints=None,\n",
       "              multi_strategy=None, n_estimators=500, n_jobs=None,\n",
       "              num_parallel_tree=None, ...)"
      ]
     },
     "execution_count": 41,
     "metadata": {},
     "output_type": "execute_result"
    }
   ],
   "source": [
    "best_xgb = xgb.XGBClassifier(**best_params)\n",
    "best_xgb.fit(X_train, y_train)"
   ]
  },
  {
   "cell_type": "markdown",
   "metadata": {},
   "source": [
    "On peut prédire les résultat du modèle sur les données de test en appellant la méthode `.predict` sur le modèle que nous avons configuré précédemment en passant comme argument les données de. On stocke par la suite les résultats dans `y_pred_xgb` pour pouvoir les comparer avec les données de test et obtenir des statistiques sur la pexgbormance du modèle"
   ]
  },
  {
   "cell_type": "code",
   "execution_count": 42,
   "metadata": {},
   "outputs": [],
   "source": [
    "y_pred_xgb = best_xgb.predict(X_test)"
   ]
  },
  {
   "cell_type": "markdown",
   "metadata": {},
   "source": [
    "### Évaluer le modèle prédictif"
   ]
  },
  {
   "cell_type": "markdown",
   "metadata": {},
   "source": [
    "On peut maintenant tester le modèle en obtenant le score ainsi que le rapport de classification et la matrice de confusion associés à ces prédictions\n",
    "\n",
    "Pour ce faire, on importe les librairies `classification_report`, `confusion_matrix` et `accuracy_score` depuis *Scikit-learn*"
   ]
  },
  {
   "cell_type": "code",
   "execution_count": 43,
   "metadata": {},
   "outputs": [],
   "source": [
    "from sklearn.metrics import classification_report, confusion_matrix, accuracy_score"
   ]
  },
  {
   "cell_type": "markdown",
   "metadata": {},
   "source": [
    "On stocke dans différentes variables la prédiction du modèle, sa pexgbormance globale, son rapport de classification ainsi qu'une matrice de confusion pour illustrer sa pexgbormance\n",
    "\n",
    "Afin de visualiser les pexgbormance du modèle, on imprime sa pexgbormance ainsi que le rapport rapport de classification en utilisant les fonctions importées plus tôt depuis la librairie *Sikit-learn*\n",
    "\n",
    "Afin de visualiser la matrice de confusion, on utilise la fonction `heatmap` de la librairie `seaborn`"
   ]
  },
  {
   "cell_type": "code",
   "execution_count": 44,
   "metadata": {},
   "outputs": [
    {
     "name": "stdout",
     "output_type": "stream",
     "text": [
      "Exactitude du modèle XGBoost: 0.4817\n",
      "\n",
      "Rapport de classification:\n",
      "                    precision    recall  f1-score   support\n",
      "\n",
      " Victoire domicile       0.49      0.35      0.41       448\n",
      "Victoire extérieur       0.48      0.82      0.61       600\n",
      "         Match nul       0.36      0.04      0.08       320\n",
      "\n",
      "          accuracy                           0.48      1368\n",
      "         macro avg       0.44      0.40      0.36      1368\n",
      "      weighted avg       0.46      0.48      0.42      1368\n",
      "\n"
     ]
    },
    {
     "data": {
      "image/png": "[encoded data removed]",
      "text/plain": [
       "<Figure size 800x400 with 2 Axes>"
      ]
     },
     "metadata": {},
     "output_type": "display_data"
    }
   ],
   "source": [
    "# on crée des étiquettes pour la identifier la variable cible (0,1,2)\n",
    "class_labels = ['Victoire domicile', 'Victoire extérieur', 'Match nul']                 \n",
    "\n",
    "# on calcule les différentes métriques de pexgbormance à partir des variables cibles calculées et des données de test\n",
    "accuracy_xgb = accuracy_score(y_test, y_pred_xgb)            \n",
    "class_report_xgb = classification_report(y_test, y_pred_xgb, target_names=class_labels)\n",
    "cm = confusion_matrix(y_test, y_pred_xgb)\n",
    "\n",
    "print(f\"Exactitude du modèle XGBoost: {accuracy_xgb:.4f}\")\n",
    "\n",
    "print(\"\\nRapport de classification:\")\n",
    "print(class_report_xgb)\n",
    "\n",
    "# on crée un heatmap pour visualiser la matrice de confusion créée plus haut en associant aux valeurs x et y les étiquettes identifiées\n",
    "plt.figure(figsize=(8, 4))\n",
    "sns.heatmap(cm, annot=True, fmt='d', cmap='Blues', \n",
    "            xticklabels=class_labels, \n",
    "            yticklabels=class_labels)\n",
    "plt.title('Matrice de confusion - XGBoost')\n",
    "plt.xlabel('Prédiction')\n",
    "plt.ylabel('Réalité')\n",
    "plt.tight_layout()\n",
    "# on sauvegarde le graphique\n",
    "plt.savefig('./graphiques/matrice_confusion.png', dpi=300, bbox_inches='tight')\n",
    "plt.show()"
   ]
  },
  {
   "cell_type": "markdown",
   "metadata": {},
   "source": [
    "Afin de savoir quelles variables explicatives ont le plus d'importance pour le model on peut utiliser la fonction `feature_importances_`"
   ]
  },
  {
   "cell_type": "code",
   "execution_count": 45,
   "metadata": {},
   "outputs": [
    {
     "name": "stdout",
     "output_type": "stream",
     "text": [
      "Importance des variables explicatives - XGBoost:\n",
      "                                Importance\n",
      "ExterieurCode                     0.069406\n",
      "DomicileCode                      0.060397\n",
      "AnneeSaison                       0.037303\n",
      "FAF_DiffGlobal                    0.036173\n",
      "DiffButsGlobal                    0.035928\n",
      "DiffButs                          0.035366\n",
      "FAF_Diff                          0.035333\n",
      "DiffButsExterieur                 0.035002\n",
      "DomicileAvgButsEncaisses_Away     0.034489\n",
      "ExterieurAvgButsEncaisses_Away    0.034257\n",
      "ExterieurAvgButsMarques_Away      0.034133\n",
      "DiffButsDomicile                  0.033982\n",
      "DomicileAvgButsMarques_Home       0.033789\n",
      "DomicileAvgButsMarques_Away       0.033727\n",
      "DomicileAvgButsEncaisses_Home     0.033459\n",
      "ExterieurAvgButsMarques_Home      0.033305\n",
      "SemaineSaison                     0.032903\n",
      "ExterieurAvgButsEncaisses_Home    0.032868\n",
      "Mois                              0.032672\n",
      "FAF_Nul_Domicile_Ext              0.032579\n",
      "FAF_VictoiresExterieur_Dom        0.032574\n",
      "ExterieurForme                    0.032548\n",
      "DiffForme                         0.031592\n",
      "FAF_VictoiresDomicile_Dom         0.031290\n",
      "FAF_VictoiresExterieur_Ext        0.031285\n",
      "FAF_Nul_Domicile_Dom              0.031261\n",
      "FAF_VictoiresDomicile_Ext         0.031225\n",
      "DomicileForme                     0.031154\n",
      "FAF_DiffNul                       0.000000\n"
     ]
    },
    {
     "data": {
      "text/plain": [
       "<Figure size 1800x1000 with 0 Axes>"
      ]
     },
     "metadata": {},
     "output_type": "display_data"
    },
    {
     "data": {
      "image/png": "[encoded data removed]",
      "text/plain": [
       "<Figure size 640x480 with 1 Axes>"
      ]
     },
     "metadata": {},
     "output_type": "display_data"
    }
   ],
   "source": [
    "# création d'un dataframe contenant l'importance de chaque variable avec la méthode .feature_importance, indexé par les noms des variables\n",
    "feature_importance = pd.DataFrame({\n",
    "    'Importance': best_xgb.feature_importances_\n",
    "}, index=features).sort_values('Importance', ascending=False)\n",
    "\n",
    "# on affiche l'importance des variables \n",
    "print(\"Importance des variables explicatives - XGBoost:\")\n",
    "print(feature_importance)\n",
    "\n",
    "# on crée un graphique pour visualiser le dataframe contenant l'importance des variables\n",
    "plt.figure(figsize=(18, 10))\n",
    "feature_importance.plot(kind='barh', legend=False)\n",
    "# on inverse ici l'axe des y pour que la variable la plus importante soit en haut\n",
    "plt.gca().invert_yaxis()  \n",
    "plt.xlabel('Importance')\n",
    "plt.title('Importance des variables explicatives - XGBoost')\n",
    "plt.tight_layout()\n",
    "# on sauvegarde le graphique créé \n",
    "plt.savefig('./graphiques/importance_variables.png', dpi=300, bbox_inches='tight')\n",
    "plt.show()\n"
   ]
  },
  {
   "cell_type": "markdown",
   "metadata": {},
   "source": [
    "#### Interprétation\n",
    "\n",
    "Après avoir analysé les résultats de notre modèle de prédiction XGBoost, nous sommes plutôt satisfaits de ce que nous avons obtenu pour notre projet.\n",
    "\n",
    "Notre modèle atteint une précision globale (accuracy) de 0,48, ce qui est plus de 15% supérieur au hasard (qui serait de 0,33). Nous avons donc pu atteindre notre objectif du projet! On peut donc affirmer que notre algorithme est capable de prédire correctement l'issue d'un match dans environ 48% des cas.\n",
    "\n",
    "En regardant la matrice de confusion, on remarque que notre modèle est significativement meilleur pour prédire les victoires à domicile et à l'extérieur que pour prédire les matchs nuls. C'est une problématique relativement récurrente en analytique du sport, les matchs nuls étant difficile à prévoir en général au point que plusieurs sites de pari choisissent de ne simplement pas parier sur les matchs nuls vù leur nature imprédictible très liée au hasard.\n",
    "\n",
    "Ce qui est particulièrement intéressant, c'est l'importance des variables explicatives. Sans surprise, les codes d'équipe (DomicileCode et ExterieurCode) sont les facteurs les plus déterminants, ce qui confirme que la qualité intrinsèque des équipes joue un rôle majeur dans l'issue des matchs. Les différentes fonctions mesurant le différentiel de but sont également importantes comme quoi les statistiques de buts des équipes à travers les matchs joués ont également une forte importance pour la performance du modèle\n",
    "\n",
    "Les statistiques de buts (marqués et encaissés) semblent également jouer un rôle important, ce qui est logique puisqu'elles reflètent directement la performance offensive et défensive des équipes.\n",
    "\n",
    "En revanche, la forme récente des équipes (DomicileForme et ExterieurForme) semble avoir moins d'impact que ce qu'on aurait pu penser.\n",
    "\n",
    "Pour la suite du projet, on pourrait essayer d'améliorer encore la performance du modèle en travaillant sur des variables explicatives plus spécifiques ou en testant d'autres algorithmes. Par exemple, un réseau de neuronnes nous permettrait potentiellement de mieux capturer les différences entre les matchs et ainsi mieux prédire les matchs nuls et victoires extérieures pour sur lesquelles le modèle a présentement davantage de difficulté à bien performer"
   ]
  },
  {
   "cell_type": "markdown",
   "metadata": {},
   "source": [
    "#### Apprentissages sur la création du modèle prédictif\n",
    "\n",
    "La création du modèle prédictif a été une expérience très enrichissante qui nous a permis d'approfondir notre compréhension des algorithmes d'apprentissage automatique.\n",
    "\n",
    "Nous avons d'abord appris à diviser correctement les données en ensembles d'entraînement, de validation et de test. Pour des données temporelles comme celles-ci, il était crucial de respecter l'ordre chronologique plutôt que de faire un échantillonnage aléatoire. Cela simule mieux la façon dont le modèle sera utilisé en pratique.\n",
    "Nous avons également découvert l'importance de l'optimisation des hyperparamètres. L'utilisation d'*Optuna* nous a permis d'explorer efficacement l'espace des hyperparamètres. Nous avons ainsi compris que:\n",
    "- Il est préférable de tester plusieurs combinaisons plutôt que de se fier à l'intuition\n",
    "- Des métriques appropriées doivent être choisies pour l'évaluation (balanced_accuracy, recall, f1)\n",
    "- La validation croisée stratifiée aide à maintenir la distribution des classes\n",
    "\n",
    "Un apprentissage crucial a été l'importance de contrer le déséquilibre des classes. Dans le cas de notre modèle, il y avait plus de matchs représentant une victoire à domicile (46.01%) que de matchs deprésentant une victoire à l'extérieur (28.85%) ou de matchs nuls (25.14%). Nous avons appris à utiliser des techniques comme:\n",
    "- L'attribution de poids aux échantillons basés sur leur ancienneté (les matchs récents comptant plus)\n",
    "- L'utilisation de paramètres comme class_weight: 'balanced'\n",
    "\n",
    "Nous avons aussi appris à évaluer correctement un modèle en utilisant:\n",
    "- La matrice de confusion pour visualiser les types d'erreurs\n",
    "- Les métriques de rappel et de précision par classe\n",
    "- L'analyse de l'importance des caractéristiques pour comprendre quelles variables influençaient le plus la prédiction"
   ]
  },
  {
   "cell_type": "markdown",
   "metadata": {},
   "source": [
    "## Utiliser le modèle pour prédire des matchs futurs"
   ]
  },
  {
   "cell_type": "markdown",
   "metadata": {},
   "source": [
    "Comme dernière étape, l'objectif est maintenant de rendre notre modèle réellement opérationnel pour les utilisateurs. Nous allons donc devoir non seulement sauvegarder notre modèle entraîné mais également créer une fonction capable de prédire le résultat d'un match futur ayant comme intrant les équipes qui s'affrontent ainsi que la date du match."
   ]
  },
  {
   "cell_type": "markdown",
   "metadata": {},
   "source": [
    "### Sauvegarder le modèle"
   ]
  },
  {
   "cell_type": "markdown",
   "metadata": {},
   "source": [
    "On sauvegarde en premier lieu le modèle entraîné précédemment avec la librairie `pickle` et la méthode `.dump`"
   ]
  },
  {
   "cell_type": "code",
   "execution_count": 48,
   "metadata": {},
   "outputs": [],
   "source": [
    "import pickle"
   ]
  },
  {
   "cell_type": "markdown",
   "metadata": {},
   "source": [
    "#### **Ne pas exécuter la cellule ci-dessous**, elle sauvegarde le modèle"
   ]
  },
  {
   "cell_type": "code",
   "execution_count": null,
   "metadata": {},
   "outputs": [],
   "source": [
    "with open('xgb_model.pkl', 'wb') as file:\n",
    "    pickle.dump(best_xgb, file)"
   ]
  },
  {
   "cell_type": "markdown",
   "metadata": {},
   "source": [
    "### Créer la fonction de prédiction"
   ]
  },
  {
   "cell_type": "markdown",
   "metadata": {},
   "source": [
    "La logique derrière la création de la fonction est la suivante : nous allons créer une nouvelle ligne à la fin du *data frame* et y stocker les valeurs du nouveau match à prédire. C'est par la suite cette ligne seule sur laquelle la fonction `best_xgb.predict` sera appellée afin d'obtenir la prédiction selon les équipes "
   ]
  },
  {
   "cell_type": "code",
   "execution_count": 49,
   "metadata": {},
   "outputs": [],
   "source": [
    "def predire_matchs(domicile, exterieur, date):\n",
    "\n",
    "    # on ajoute les différentes variables explicatives utilisées lors de l'entraînement du modèle\n",
    "    features = [\n",
    "    'DomicileCode', 'ExterieurCode', 'DomicileForme', 'ExterieurForme', \n",
    "    'DiffForme', 'FAF_VictoiresDomicile_Dom', 'FAF_Diff', 'FAF_DiffGlobal', \n",
    "    'FAF_VictoiresExterieur_Dom', 'FAF_VictoiresDomicile_Ext', \n",
    "    'FAF_VictoiresExterieur_Ext', 'SemaineSaison', 'Mois', 'AnneeSaison',\n",
    "    'DomicileAvgButsMarques_Home', 'DomicileAvgButsEncaisses_Home', \n",
    "    'DomicileAvgButsMarques_Away', 'DomicileAvgButsEncaisses_Away', \n",
    "    'ExterieurAvgButsMarques_Home', 'ExterieurAvgButsEncaisses_Home', \n",
    "    'ExterieurAvgButsMarques_Away', 'ExterieurAvgButsEncaisses_Away', \n",
    "    'DiffButsDomicile', 'DiffButsExterieur', 'DiffButs', 'DiffButsGlobal',\n",
    "    'FAF_Nul_Domicile_Dom', 'FAF_Nul_Domicile_Ext', 'FAF_DiffNul' \n",
    "]\n",
    "    # on commence par créer une copie du data frame initial afin de ne pas le modifier\n",
    "    # on travaille sur un subset du dataframe (dernières 2 saisons seulement) pour réduire le temps de calcul et garder les prédictions plus à jour\n",
    "    date_limite = pd.to_datetime(date) - pd.DateOffset(years=2)\n",
    "    predire_df = matchs[matchs['Date'] >= date_limite].copy().reset_index(drop=True)\n",
    "    \n",
    "    # on veut maintenant créer une nouvelle ligne dans le data frame comportant les informations du match à prédire\n",
    "    # on itére d'abord à travers chaque colonne de features pour vérifier si la colonne et au sein du data frame predire_df\n",
    "    # si elle l'est, on ajoute cette colonne au dictionnaire vide new_row en associant une valeur de 0\n",
    "    new_row = {}\n",
    "    for col in features:\n",
    "        if col in predire_df.columns:\n",
    "            new_row[col] = 0.0\n",
    "    \n",
    "    # afin de combler cette nouvelle ligne nous devons ajouter les variables de date et d'équipes en premier lieu afin que le reste puissent être calculées par nos fonctions par la suite\n",
    "    # on commence par transformer la date saisie en format datetime et on la store dans la variable date\n",
    "    date = pd.to_datetime(date)\n",
    "    # on associe la valeur de la date dans la colonne date au sein du dictionnaire new_row\n",
    "    new_row['Date'] = date\n",
    "    # on utilise la méthode get pour obtenir le code des deux équipes à l'aide du dictionnaire créé précédemment\n",
    "    # on ajoute une vérification pour s'assurer que les équipes existent dans le dictionnaire\n",
    "    if domicile not in code_equipe:\n",
    "        print(f\"ERREUR: L'équipe '{domicile}' n'existe pas dans le dictionnaire.\")\n",
    "        print(f\"Équipes disponibles: {list(code_equipe.keys())}\")\n",
    "        return None\n",
    "    \n",
    "    if exterieur not in code_equipe:\n",
    "        print(f\"ERREUR: L'équipe '{exterieur}' n'existe pas dans le dictionnaire.\")\n",
    "        print(f\"Équipes disponibles: {list(code_equipe.keys())}\")\n",
    "        return None\n",
    "    \n",
    "    new_row['DomicileCode'] = code_equipe.get(domicile)\n",
    "    new_row['ExterieurCode'] = code_equipe.get(exterieur)\n",
    "    \n",
    "    # on s'assure que les codes sont bien des entiers\n",
    "    new_row['DomicileCode'] = int(new_row['DomicileCode'])\n",
    "    new_row['ExterieurCode'] = int(new_row['ExterieurCode'])\n",
    "    # on ajoute la colonne mois en extrayant le mois de la colonne \n",
    "    new_row['Mois'] = (date.month)\n",
    "    # on vient maintenant ajouter l'année de la saison et on la soustrait de 1 dans le cas où les on se situe entre Janvier et Juillet (pour qu'un match du 1er janvier 2025 soit considéré comme dans l'année 2024 par exemple)  \n",
    "    if date > pd.Timestamp(date.year, month=8, day=5):\n",
    "        new_row['AnneeSaison'] = int(date.year - 1)\n",
    "    else:\n",
    "        new_row['AnneeSaison'] = int(date.year)\n",
    "    # on ajoute maintenant la semaine de la saison en effectuant le même calcul qui a été réalisé plus tôt\n",
    "    new_row['SemaineSaison'] = int(((pd.Timestamp(date) - pd.Timestamp(year=int(new_row['AnneeSaison']), month=8, day=5)).days // 7) + 1)\n",
    "    \n",
    "    # on ajoute la nouvelle ligne au dataframe filtré predire_df\n",
    "    predire_df.loc[len(predire_df)] = new_row\n",
    "\n",
    "    # on applique maintenant les fonctions créées plus tôt pour calculer la forme d'équipe, les statistiques de but et les résultats face-à-face\n",
    "    stats_df = stats_equipe(predire_df)\n",
    "    predire_df = faf_equipes(stats_df)\n",
    "    # on conserve maintenant uniquement les variables explicatives spécifiées plus tôt pour la dernière ligne (le match à prédire) et on les stocke dans la variable X_pred\n",
    "    X_pred = predire_df.iloc[-1:][features]\n",
    "    \n",
    "    # on s'assure que toutes les colonnes sont numériques (fix pour éviter l'erreur XGBoost)\n",
    "    for col in X_pred.columns:\n",
    "        if X_pred[col].dtype == 'object':\n",
    "            X_pred[col] = pd.to_numeric(X_pred[col])\n",
    "\n",
    "    # on peut maintenant importer le modèle sauvegardé plus tôt\n",
    "    with open('xgb_model.pkl', 'rb') as file:\n",
    "        best_xgb = pickle.load(file)\n",
    "\n",
    "    # on prédit maintenant le résultat en utilisant notre modèle best_xgb et la fonction .predict sur les variables explicatives X_pred\n",
    "    # on peut utiliser la fonction .predict_proba pour avoir la confiance du modèle en sa prédiction\n",
    "    y_pred = best_xgb.predict(X_pred)\n",
    "    y_pred_prob = best_xgb.predict_proba(X_pred)\n",
    "    # dans le cas où la prédiction est de 0, on prédit une victoire de l'équipe extérieur\n",
    "    if y_pred == 0:\n",
    "        prediction = print(f\"Le modèle prédit une victoire de {exterieur} à {y_pred_prob[0, 0]:.0%}!\")\n",
    "    # dans le cas où la prédiction est de 1, on prédit une victoire de l'équipe domicile\n",
    "    elif y_pred==1:\n",
    "        prediction = print(f\"Le modèle prédit une victoire de {domicile} à {y_pred_prob[0, 1]:.0%}!\")\n",
    "    # dans le cas où la prédiction est de 2, on prédit un match nul\n",
    "    else:\n",
    "        prediction = print(f\"Le modèle prédit un match nul à {y_pred_prob[0, 2]:.0%}!\")\n",
    "    # on retourne la prédiction résultante\n",
    "    return prediction"
   ]
  },
  {
   "cell_type": "markdown",
   "metadata": {},
   "source": [
    "On peut maintenant utiliser la fonction et l'ensemble de notre modèle en spéficiant les équipes qui s'affrontent et la date du match\n",
    "\n",
    "La cellule ci-dessous prendra quelques temps à exécuter, **au maximum $1$ minute**. "
   ]
  },
  {
   "cell_type": "code",
   "execution_count": 50,
   "metadata": {},
   "outputs": [
    {
     "name": "stdout",
     "output_type": "stream",
     "text": [
      "Le modèle prédit une victoire de Chelsea à 56%!\n"
     ]
    }
   ],
   "source": [
    "predire_matchs('Arsenal', 'Chelsea', '2024-03-15')"
   ]
  },
  {
   "cell_type": "markdown",
   "metadata": {},
   "source": [
    "#### Apprentissages sur l'utilisation du modèle pour prédire les matchs futurs\n",
    "\n",
    "L'application pratique du modèle pour prédire les résultats de matchs futurs a été la partie la plus gratifiante du projet puisqu'elle permettait de lier tout ce qui avait été faite avant et de pouvoir répondre à la question au coeur de notre projet.\n",
    "Nous avons pu créer une fonction (predire_matchs) qui:\n",
    "- Accepte des entrées simples (équipe à domicile, équipe à l'extérieur, date du match)\n",
    "- Génère automatiquement toutes les features nécessaires en se basant sur l'historique\n",
    "- Applique les mêmes transformations que celles utilisées pendant l'entraînement\n",
    "- Présente les résultats de manière compréhensible\n",
    "\n",
    "Nous avons aussi réalisé qu'un modèle n'est vraiment utile que s'il peut être facilement utilisé et ains appris à:\n",
    "- Sauvegarder le modèle entraîné pour une utilisation future\n",
    "- Créer des interfaces simples pour utiliser le modèle sans connaître ses détails techniques\n",
    "- Générer des prédictions interprétables\n",
    "\n",
    "Nous renarquons toutefois que l'application prend un certain temps de chargergement, ce qui pourrait constituer une avenue d'amélioration potentielle avec pour but de rendre le modèle plus efficace"
   ]
  }
 ],
 "metadata": {
  "kernelspec": {
   "display_name": "venv",
   "language": "python",
   "name": "python3"
  },
  "language_info": {
   "codemirror_mode": {
    "name": "ipython",
    "version": 3
   },
   "file_extension": ".py",
   "mimetype": "text/x-python",
   "name": "python",
   "nbconvert_exporter": "python",
   "pygments_lexer": "ipython3",
   "version": "3.12.2"
  }
 },
 "nbformat": 4,
 "nbformat_minor": 2
}
